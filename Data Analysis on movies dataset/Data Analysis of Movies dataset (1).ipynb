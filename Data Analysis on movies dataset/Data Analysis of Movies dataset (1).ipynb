{
 "cells": [
  {
   "cell_type": "markdown",
   "metadata": {},
   "source": [
    "# Data Analysis of Movies dataset"
   ]
  },
  {
   "cell_type": "markdown",
   "metadata": {},
   "source": [
    "\n",
    "- The details of these projects and the scope of each project are listed in the sections below.\n",
    "\n",
    "1. Data acquisition of the movielens dataset\n",
    "   * users dataset\n",
    "   * rating dataset\n",
    "   * movies dataset\n",
    "   \n",
    "2. Perform the Exploratory Data Analysis (EDA) for the users dataset\n",
    "   * Visualize user age distribution\n",
    "   * Visualize overall rating by users\n",
    "   * Find and visualize the user rating of the movie “Toy Story”\n",
    "   * Find and visualize the viewership of the movie “Toy Story” by age group\n",
    "   * Find and visualize the top 25 movies by viewership rating\n",
    "   * Find the rating for a particular user of user id = 2696\n",
    "   * Visualize the rating data by user of user id = 2696\n",
    "   \n",
    "3. Perform machine learning on first 500 extracted records\n",
    "   - Use the following features:\n",
    "    * movie id\n",
    "    * age\n",
    "    * occupation\n",
    "   - Use rating as label\n",
    "   \n",
    "4. Create train and test data set and perform the following:\n",
    "\n",
    "5. Create a histogram for movie, age, and occupation\n"
   ]
  },
  {
   "cell_type": "code",
   "execution_count": 1,
   "metadata": {
    "executionInfo": {
     "elapsed": 764,
     "status": "ok",
     "timestamp": 1624183374227,
     "user": {
      "displayName": "ALBIN P BENNY",
      "photoUrl": "https://lh3.googleusercontent.com/a-/AOh14GhpcHc2Te5FLA5H4iwsfN5KI5eaCaON-JBg2d1Wqg=s64",
      "userId": "08449600283866487124"
     },
     "user_tz": -330
    },
    "id": "lOE5X8eCqLJs"
   },
   "outputs": [],
   "source": [
    "# import basic libraries\n",
    "import pandas as pd\n",
    "import numpy as np\n",
    "\n",
    "# import Plotting Libraries\n",
    "import matplotlib.pyplot as plt\n",
    "import seaborn as sns\n",
    "sns.set_style('white')\n",
    "%matplotlib inline\n",
    "\n",
    "# Ignore warnings\n",
    "import warnings\n",
    "warnings.filterwarnings('ignore')"
   ]
  },
  {
   "cell_type": "markdown",
   "metadata": {
    "id": "ITrQ_7xQqdvU"
   },
   "source": [
    "## 1. Data acquisition of the movielens dataset\n",
    "* users dataset\n",
    "* rating dataset\n",
    "* movies dataset"
   ]
  },
  {
   "cell_type": "code",
   "execution_count": 2,
   "metadata": {
    "colab": {
     "base_uri": "https://localhost:8080/",
     "height": 204
    },
    "executionInfo": {
     "elapsed": 26,
     "status": "ok",
     "timestamp": 1624183374937,
     "user": {
      "displayName": "ALBIN P BENNY",
      "photoUrl": "https://lh3.googleusercontent.com/a-/AOh14GhpcHc2Te5FLA5H4iwsfN5KI5eaCaON-JBg2d1Wqg=s64",
      "userId": "08449600283866487124"
     },
     "user_tz": -330
    },
    "id": "zShbVIuMqsTv",
    "outputId": "b5abceeb-e6c0-431f-aeb8-58489ad8d06b"
   },
   "outputs": [
    {
     "data": {
      "text/html": [
       "<div>\n",
       "<style scoped>\n",
       "    .dataframe tbody tr th:only-of-type {\n",
       "        vertical-align: middle;\n",
       "    }\n",
       "\n",
       "    .dataframe tbody tr th {\n",
       "        vertical-align: top;\n",
       "    }\n",
       "\n",
       "    .dataframe thead th {\n",
       "        text-align: right;\n",
       "    }\n",
       "</style>\n",
       "<table border=\"1\" class=\"dataframe\">\n",
       "  <thead>\n",
       "    <tr style=\"text-align: right;\">\n",
       "      <th></th>\n",
       "      <th>UserID</th>\n",
       "      <th>Gender</th>\n",
       "      <th>Age</th>\n",
       "      <th>Occupation</th>\n",
       "      <th>Zip-code</th>\n",
       "    </tr>\n",
       "  </thead>\n",
       "  <tbody>\n",
       "    <tr>\n",
       "      <th>0</th>\n",
       "      <td>2</td>\n",
       "      <td>M</td>\n",
       "      <td>56</td>\n",
       "      <td>16</td>\n",
       "      <td>70072</td>\n",
       "    </tr>\n",
       "    <tr>\n",
       "      <th>1</th>\n",
       "      <td>3</td>\n",
       "      <td>M</td>\n",
       "      <td>25</td>\n",
       "      <td>15</td>\n",
       "      <td>55117</td>\n",
       "    </tr>\n",
       "    <tr>\n",
       "      <th>2</th>\n",
       "      <td>4</td>\n",
       "      <td>M</td>\n",
       "      <td>45</td>\n",
       "      <td>7</td>\n",
       "      <td>02460</td>\n",
       "    </tr>\n",
       "    <tr>\n",
       "      <th>3</th>\n",
       "      <td>5</td>\n",
       "      <td>M</td>\n",
       "      <td>25</td>\n",
       "      <td>20</td>\n",
       "      <td>55455</td>\n",
       "    </tr>\n",
       "    <tr>\n",
       "      <th>4</th>\n",
       "      <td>6</td>\n",
       "      <td>F</td>\n",
       "      <td>50</td>\n",
       "      <td>9</td>\n",
       "      <td>55117</td>\n",
       "    </tr>\n",
       "  </tbody>\n",
       "</table>\n",
       "</div>"
      ],
      "text/plain": [
       "   UserID Gender  Age  Occupation Zip-code\n",
       "0       2      M   56          16    70072\n",
       "1       3      M   25          15    55117\n",
       "2       4      M   45           7    02460\n",
       "3       5      M   25          20    55455\n",
       "4       6      F   50           9    55117"
      ]
     },
     "execution_count": 2,
     "metadata": {},
     "output_type": "execute_result"
    }
   ],
   "source": [
    "# Data acquisition of the of the users dataset\n",
    "users_data = pd.read_csv(r\"C:\\Users\\ALBIN\\Desktop\\Tranzmeo\\Project4_Movielens\\users.dat\",sep='::',engine='python')\n",
    "users_data.columns =['UserID','Gender','Age','Occupation','Zip-code']\n",
    "users_data.head()"
   ]
  },
  {
   "cell_type": "code",
   "execution_count": 3,
   "metadata": {
    "colab": {
     "base_uri": "https://localhost:8080/",
     "height": 204
    },
    "executionInfo": {
     "elapsed": 5812,
     "status": "ok",
     "timestamp": 1624183380733,
     "user": {
      "displayName": "ALBIN P BENNY",
      "photoUrl": "https://lh3.googleusercontent.com/a-/AOh14GhpcHc2Te5FLA5H4iwsfN5KI5eaCaON-JBg2d1Wqg=s64",
      "userId": "08449600283866487124"
     },
     "user_tz": -330
    },
    "id": "6W_HKAhosKCQ",
    "outputId": "7e4efa3f-b82b-4151-f836-63d81f04fbdb"
   },
   "outputs": [
    {
     "data": {
      "text/html": [
       "<div>\n",
       "<style scoped>\n",
       "    .dataframe tbody tr th:only-of-type {\n",
       "        vertical-align: middle;\n",
       "    }\n",
       "\n",
       "    .dataframe tbody tr th {\n",
       "        vertical-align: top;\n",
       "    }\n",
       "\n",
       "    .dataframe thead th {\n",
       "        text-align: right;\n",
       "    }\n",
       "</style>\n",
       "<table border=\"1\" class=\"dataframe\">\n",
       "  <thead>\n",
       "    <tr style=\"text-align: right;\">\n",
       "      <th></th>\n",
       "      <th>UserID</th>\n",
       "      <th>MovieID</th>\n",
       "      <th>Rating</th>\n",
       "      <th>Timestamp</th>\n",
       "    </tr>\n",
       "  </thead>\n",
       "  <tbody>\n",
       "    <tr>\n",
       "      <th>0</th>\n",
       "      <td>1</td>\n",
       "      <td>661</td>\n",
       "      <td>3</td>\n",
       "      <td>978302109</td>\n",
       "    </tr>\n",
       "    <tr>\n",
       "      <th>1</th>\n",
       "      <td>1</td>\n",
       "      <td>914</td>\n",
       "      <td>3</td>\n",
       "      <td>978301968</td>\n",
       "    </tr>\n",
       "    <tr>\n",
       "      <th>2</th>\n",
       "      <td>1</td>\n",
       "      <td>3408</td>\n",
       "      <td>4</td>\n",
       "      <td>978300275</td>\n",
       "    </tr>\n",
       "    <tr>\n",
       "      <th>3</th>\n",
       "      <td>1</td>\n",
       "      <td>2355</td>\n",
       "      <td>5</td>\n",
       "      <td>978824291</td>\n",
       "    </tr>\n",
       "    <tr>\n",
       "      <th>4</th>\n",
       "      <td>1</td>\n",
       "      <td>1197</td>\n",
       "      <td>3</td>\n",
       "      <td>978302268</td>\n",
       "    </tr>\n",
       "  </tbody>\n",
       "</table>\n",
       "</div>"
      ],
      "text/plain": [
       "   UserID  MovieID  Rating  Timestamp\n",
       "0       1      661       3  978302109\n",
       "1       1      914       3  978301968\n",
       "2       1     3408       4  978300275\n",
       "3       1     2355       5  978824291\n",
       "4       1     1197       3  978302268"
      ]
     },
     "execution_count": 3,
     "metadata": {},
     "output_type": "execute_result"
    }
   ],
   "source": [
    "# Data acquisition of the of the rating dataset\n",
    "ratings_data = pd.read_csv(r\"C:\\Users\\ALBIN\\Desktop\\Tranzmeo\\Project4_Movielens\\ratings.dat\",sep='::',engine='python')\n",
    "ratings_data.columns =['UserID','MovieID','Rating','Timestamp']\n",
    "ratings_data.head()"
   ]
  },
  {
   "cell_type": "code",
   "execution_count": 4,
   "metadata": {
    "colab": {
     "base_uri": "https://localhost:8080/",
     "height": 204
    },
    "executionInfo": {
     "elapsed": 39,
     "status": "ok",
     "timestamp": 1624183380746,
     "user": {
      "displayName": "ALBIN P BENNY",
      "photoUrl": "https://lh3.googleusercontent.com/a-/AOh14GhpcHc2Te5FLA5H4iwsfN5KI5eaCaON-JBg2d1Wqg=s64",
      "userId": "08449600283866487124"
     },
     "user_tz": -330
    },
    "id": "JAenHil1sNIw",
    "outputId": "dfda4de7-5522-4bff-f81f-0e58abbae5ef"
   },
   "outputs": [
    {
     "data": {
      "text/html": [
       "<div>\n",
       "<style scoped>\n",
       "    .dataframe tbody tr th:only-of-type {\n",
       "        vertical-align: middle;\n",
       "    }\n",
       "\n",
       "    .dataframe tbody tr th {\n",
       "        vertical-align: top;\n",
       "    }\n",
       "\n",
       "    .dataframe thead th {\n",
       "        text-align: right;\n",
       "    }\n",
       "</style>\n",
       "<table border=\"1\" class=\"dataframe\">\n",
       "  <thead>\n",
       "    <tr style=\"text-align: right;\">\n",
       "      <th></th>\n",
       "      <th>MovieID</th>\n",
       "      <th>Title</th>\n",
       "      <th>Genres</th>\n",
       "    </tr>\n",
       "  </thead>\n",
       "  <tbody>\n",
       "    <tr>\n",
       "      <th>0</th>\n",
       "      <td>2</td>\n",
       "      <td>Jumanji (1995)</td>\n",
       "      <td>Adventure|Children's|Fantasy</td>\n",
       "    </tr>\n",
       "    <tr>\n",
       "      <th>1</th>\n",
       "      <td>3</td>\n",
       "      <td>Grumpier Old Men (1995)</td>\n",
       "      <td>Comedy|Romance</td>\n",
       "    </tr>\n",
       "    <tr>\n",
       "      <th>2</th>\n",
       "      <td>4</td>\n",
       "      <td>Waiting to Exhale (1995)</td>\n",
       "      <td>Comedy|Drama</td>\n",
       "    </tr>\n",
       "    <tr>\n",
       "      <th>3</th>\n",
       "      <td>5</td>\n",
       "      <td>Father of the Bride Part II (1995)</td>\n",
       "      <td>Comedy</td>\n",
       "    </tr>\n",
       "    <tr>\n",
       "      <th>4</th>\n",
       "      <td>6</td>\n",
       "      <td>Heat (1995)</td>\n",
       "      <td>Action|Crime|Thriller</td>\n",
       "    </tr>\n",
       "  </tbody>\n",
       "</table>\n",
       "</div>"
      ],
      "text/plain": [
       "   MovieID                               Title                        Genres\n",
       "0        2                      Jumanji (1995)  Adventure|Children's|Fantasy\n",
       "1        3             Grumpier Old Men (1995)                Comedy|Romance\n",
       "2        4            Waiting to Exhale (1995)                  Comedy|Drama\n",
       "3        5  Father of the Bride Part II (1995)                        Comedy\n",
       "4        6                         Heat (1995)         Action|Crime|Thriller"
      ]
     },
     "execution_count": 4,
     "metadata": {},
     "output_type": "execute_result"
    }
   ],
   "source": [
    "# Data acquisition of the of the movies dataset\n",
    "movies_data = pd.read_csv(r\"C:\\Users\\ALBIN\\Desktop\\Tranzmeo\\Project4_Movielens\\movies.dat\",sep='::',engine='python')\n",
    "movies_data.columns =['MovieID','Title','Genres']\n",
    "movies_data.head()"
   ]
  },
  {
   "cell_type": "code",
   "execution_count": 5,
   "metadata": {
    "executionInfo": {
     "elapsed": 1676,
     "status": "ok",
     "timestamp": 1624183382393,
     "user": {
      "displayName": "ALBIN P BENNY",
      "photoUrl": "https://lh3.googleusercontent.com/a-/AOh14GhpcHc2Te5FLA5H4iwsfN5KI5eaCaON-JBg2d1Wqg=s64",
      "userId": "08449600283866487124"
     },
     "user_tz": -330
    },
    "id": "SmvnZhhqsXvn"
   },
   "outputs": [],
   "source": [
    "df_merged1 = movies_data.merge(ratings_data, how='outer')\n",
    "df_merged2 = users_data.merge(ratings_data, how='inner')\n",
    "df = df_merged1.merge(df_merged2, how='inner')"
   ]
  },
  {
   "cell_type": "code",
   "execution_count": 6,
   "metadata": {
    "colab": {
     "base_uri": "https://localhost:8080/",
     "height": 204
    },
    "executionInfo": {
     "elapsed": 85,
     "status": "ok",
     "timestamp": 1624183382402,
     "user": {
      "displayName": "ALBIN P BENNY",
      "photoUrl": "https://lh3.googleusercontent.com/a-/AOh14GhpcHc2Te5FLA5H4iwsfN5KI5eaCaON-JBg2d1Wqg=s64",
      "userId": "08449600283866487124"
     },
     "user_tz": -330
    },
    "id": "qxUEv6-3shVp",
    "outputId": "7869d00c-4747-4b7d-94c6-15848df9f8c5"
   },
   "outputs": [
    {
     "data": {
      "text/html": [
       "<div>\n",
       "<style scoped>\n",
       "    .dataframe tbody tr th:only-of-type {\n",
       "        vertical-align: middle;\n",
       "    }\n",
       "\n",
       "    .dataframe tbody tr th {\n",
       "        vertical-align: top;\n",
       "    }\n",
       "\n",
       "    .dataframe thead th {\n",
       "        text-align: right;\n",
       "    }\n",
       "</style>\n",
       "<table border=\"1\" class=\"dataframe\">\n",
       "  <thead>\n",
       "    <tr style=\"text-align: right;\">\n",
       "      <th></th>\n",
       "      <th>MovieID</th>\n",
       "      <th>Title</th>\n",
       "      <th>Genres</th>\n",
       "      <th>UserID</th>\n",
       "      <th>Rating</th>\n",
       "      <th>Timestamp</th>\n",
       "      <th>Gender</th>\n",
       "      <th>Age</th>\n",
       "      <th>Occupation</th>\n",
       "      <th>Zip-code</th>\n",
       "    </tr>\n",
       "  </thead>\n",
       "  <tbody>\n",
       "    <tr>\n",
       "      <th>0</th>\n",
       "      <td>2</td>\n",
       "      <td>Jumanji (1995)</td>\n",
       "      <td>Adventure|Children's|Fantasy</td>\n",
       "      <td>10.0</td>\n",
       "      <td>5.0</td>\n",
       "      <td>979168267.0</td>\n",
       "      <td>F</td>\n",
       "      <td>35</td>\n",
       "      <td>1</td>\n",
       "      <td>95370</td>\n",
       "    </tr>\n",
       "    <tr>\n",
       "      <th>1</th>\n",
       "      <td>2</td>\n",
       "      <td>Jumanji (1995)</td>\n",
       "      <td>Adventure|Children's|Fantasy</td>\n",
       "      <td>13.0</td>\n",
       "      <td>3.0</td>\n",
       "      <td>978202563.0</td>\n",
       "      <td>M</td>\n",
       "      <td>45</td>\n",
       "      <td>1</td>\n",
       "      <td>93304</td>\n",
       "    </tr>\n",
       "    <tr>\n",
       "      <th>2</th>\n",
       "      <td>2</td>\n",
       "      <td>Jumanji (1995)</td>\n",
       "      <td>Adventure|Children's|Fantasy</td>\n",
       "      <td>18.0</td>\n",
       "      <td>2.0</td>\n",
       "      <td>978152541.0</td>\n",
       "      <td>F</td>\n",
       "      <td>18</td>\n",
       "      <td>3</td>\n",
       "      <td>95825</td>\n",
       "    </tr>\n",
       "    <tr>\n",
       "      <th>3</th>\n",
       "      <td>2</td>\n",
       "      <td>Jumanji (1995)</td>\n",
       "      <td>Adventure|Children's|Fantasy</td>\n",
       "      <td>23.0</td>\n",
       "      <td>2.0</td>\n",
       "      <td>978461604.0</td>\n",
       "      <td>M</td>\n",
       "      <td>35</td>\n",
       "      <td>0</td>\n",
       "      <td>90049</td>\n",
       "    </tr>\n",
       "    <tr>\n",
       "      <th>4</th>\n",
       "      <td>2</td>\n",
       "      <td>Jumanji (1995)</td>\n",
       "      <td>Adventure|Children's|Fantasy</td>\n",
       "      <td>27.0</td>\n",
       "      <td>1.0</td>\n",
       "      <td>978129692.0</td>\n",
       "      <td>M</td>\n",
       "      <td>25</td>\n",
       "      <td>11</td>\n",
       "      <td>19130</td>\n",
       "    </tr>\n",
       "  </tbody>\n",
       "</table>\n",
       "</div>"
      ],
      "text/plain": [
       "   MovieID           Title                        Genres  UserID  Rating  \\\n",
       "0        2  Jumanji (1995)  Adventure|Children's|Fantasy    10.0     5.0   \n",
       "1        2  Jumanji (1995)  Adventure|Children's|Fantasy    13.0     3.0   \n",
       "2        2  Jumanji (1995)  Adventure|Children's|Fantasy    18.0     2.0   \n",
       "3        2  Jumanji (1995)  Adventure|Children's|Fantasy    23.0     2.0   \n",
       "4        2  Jumanji (1995)  Adventure|Children's|Fantasy    27.0     1.0   \n",
       "\n",
       "     Timestamp Gender  Age  Occupation Zip-code  \n",
       "0  979168267.0      F   35           1    95370  \n",
       "1  978202563.0      M   45           1    93304  \n",
       "2  978152541.0      F   18           3    95825  \n",
       "3  978461604.0      M   35           0    90049  \n",
       "4  978129692.0      M   25          11    19130  "
      ]
     },
     "execution_count": 6,
     "metadata": {},
     "output_type": "execute_result"
    }
   ],
   "source": [
    "df.head()"
   ]
  },
  {
   "cell_type": "code",
   "execution_count": 7,
   "metadata": {
    "colab": {
     "base_uri": "https://localhost:8080/"
    },
    "executionInfo": {
     "elapsed": 77,
     "status": "ok",
     "timestamp": 1624183382405,
     "user": {
      "displayName": "ALBIN P BENNY",
      "photoUrl": "https://lh3.googleusercontent.com/a-/AOh14GhpcHc2Te5FLA5H4iwsfN5KI5eaCaON-JBg2d1Wqg=s64",
      "userId": "08449600283866487124"
     },
     "user_tz": -330
    },
    "id": "9sXyGexYszlE",
    "outputId": "7ff83628-2f67-4bd8-b63a-0a7ff3da6df2",
    "scrolled": true
   },
   "outputs": [
    {
     "name": "stdout",
     "output_type": "stream",
     "text": [
      "<class 'pandas.core.frame.DataFrame'>\n",
      "Int64Index: 1000156 entries, 0 to 1000155\n",
      "Data columns (total 10 columns):\n",
      " #   Column      Non-Null Count    Dtype  \n",
      "---  ------      --------------    -----  \n",
      " 0   MovieID     1000156 non-null  int64  \n",
      " 1   Title       998080 non-null   object \n",
      " 2   Genres      998080 non-null   object \n",
      " 3   UserID      1000156 non-null  float64\n",
      " 4   Rating      1000156 non-null  float64\n",
      " 5   Timestamp   1000156 non-null  float64\n",
      " 6   Gender      1000156 non-null  object \n",
      " 7   Age         1000156 non-null  int64  \n",
      " 8   Occupation  1000156 non-null  int64  \n",
      " 9   Zip-code    1000156 non-null  object \n",
      "dtypes: float64(3), int64(3), object(4)\n",
      "memory usage: 83.9+ MB\n"
     ]
    }
   ],
   "source": [
    "df.info()"
   ]
  },
  {
   "cell_type": "markdown",
   "metadata": {},
   "source": [
    "* 6 neumeric features and 4 objects"
   ]
  },
  {
   "cell_type": "code",
   "execution_count": 8,
   "metadata": {
    "executionInfo": {
     "elapsed": 64,
     "status": "ok",
     "timestamp": 1624183382411,
     "user": {
      "displayName": "ALBIN P BENNY",
      "photoUrl": "https://lh3.googleusercontent.com/a-/AOh14GhpcHc2Te5FLA5H4iwsfN5KI5eaCaON-JBg2d1Wqg=s64",
      "userId": "08449600283866487124"
     },
     "user_tz": -330
    },
    "id": "fzrTCXF6s2Hk"
   },
   "outputs": [
    {
     "data": {
      "text/plain": [
       "(1000156, 10)"
      ]
     },
     "execution_count": 8,
     "metadata": {},
     "output_type": "execute_result"
    }
   ],
   "source": [
    "df.shape"
   ]
  },
  {
   "cell_type": "markdown",
   "metadata": {},
   "source": [
    "* 1000156 records and 10 features"
   ]
  },
  {
   "cell_type": "code",
   "execution_count": null,
   "metadata": {},
   "outputs": [],
   "source": []
  },
  {
   "cell_type": "markdown",
   "metadata": {
    "id": "3sY0iW1ps5f7"
   },
   "source": [
    "## 2. Perform the Exploratory Data Analysis (EDA) for the users dataset"
   ]
  },
  {
   "cell_type": "markdown",
   "metadata": {
    "id": "WSJt8DhUs91z"
   },
   "source": [
    "### Visualize user age distribution"
   ]
  },
  {
   "cell_type": "code",
   "execution_count": 9,
   "metadata": {
    "colab": {
     "base_uri": "https://localhost:8080/"
    },
    "executionInfo": {
     "elapsed": 67,
     "status": "ok",
     "timestamp": 1624183382419,
     "user": {
      "displayName": "ALBIN P BENNY",
      "photoUrl": "https://lh3.googleusercontent.com/a-/AOh14GhpcHc2Te5FLA5H4iwsfN5KI5eaCaON-JBg2d1Wqg=s64",
      "userId": "08449600283866487124"
     },
     "user_tz": -330
    },
    "id": "7g6kQWM6s-YC",
    "outputId": "c435532c-e553-4d45-e298-d873fd0b767c"
   },
   "outputs": [
    {
     "data": {
      "text/plain": [
       "25    395556\n",
       "35    199003\n",
       "18    183536\n",
       "45     83633\n",
       "50     72490\n",
       "56     38780\n",
       "1      27158\n",
       "Name: Age, dtype: int64"
      ]
     },
     "execution_count": 9,
     "metadata": {},
     "output_type": "execute_result"
    }
   ],
   "source": [
    "df['Age'].value_counts()"
   ]
  },
  {
   "cell_type": "code",
   "execution_count": 10,
   "metadata": {
    "colab": {
     "base_uri": "https://localhost:8080/",
     "height": 367
    },
    "executionInfo": {
     "elapsed": 1103,
     "status": "ok",
     "timestamp": 1624183383472,
     "user": {
      "displayName": "ALBIN P BENNY",
      "photoUrl": "https://lh3.googleusercontent.com/a-/AOh14GhpcHc2Te5FLA5H4iwsfN5KI5eaCaON-JBg2d1Wqg=s64",
      "userId": "08449600283866487124"
     },
     "user_tz": -330
    },
    "id": "WQYUSNpdtALD",
    "outputId": "cee64322-4aca-4d5f-cce6-f88a3f6bcdec",
    "scrolled": false
   },
   "outputs": [
    {
     "data": {
      "text/plain": [
       "Text(0.5, 0, 'Age')"
      ]
     },
     "execution_count": 10,
     "metadata": {},
     "output_type": "execute_result"
    },
    {
     "data": {
      "image/png": "[encoded data removed]",
      "text/plain": [
       "<Figure size 720x360 with 1 Axes>"
      ]
     },
     "metadata": {
      "needs_background": "light"
     },
     "output_type": "display_data"
    }
   ],
   "source": [
    "#count plot\n",
    "plt.figure(figsize =(10,5))\n",
    "sns.countplot(df['Age'])\n",
    "plt.title(\"Distribution of users age\")\n",
    "plt.ylabel('count of users')\n",
    "plt.xlabel('Age')"
   ]
  },
  {
   "cell_type": "markdown",
   "metadata": {},
   "source": [
    "* Majority of the users are 25 years old"
   ]
  },
  {
   "cell_type": "code",
   "execution_count": 11,
   "metadata": {
    "colab": {
     "base_uri": "https://localhost:8080/"
    },
    "executionInfo": {
     "elapsed": 88,
     "status": "ok",
     "timestamp": 1624183383477,
     "user": {
      "displayName": "ALBIN P BENNY",
      "photoUrl": "https://lh3.googleusercontent.com/a-/AOh14GhpcHc2Te5FLA5H4iwsfN5KI5eaCaON-JBg2d1Wqg=s64",
      "userId": "08449600283866487124"
     },
     "user_tz": -330
    },
    "id": "NDnknK2PtClT",
    "outputId": "75b4918e-1d36-4dc7-b2ec-ff32d63dd538"
   },
   "outputs": [
    {
     "data": {
      "text/plain": [
       "56"
      ]
     },
     "execution_count": 11,
     "metadata": {},
     "output_type": "execute_result"
    }
   ],
   "source": [
    "df['Age'].max()"
   ]
  },
  {
   "cell_type": "code",
   "execution_count": 12,
   "metadata": {
    "colab": {
     "base_uri": "https://localhost:8080/",
     "height": 266
    },
    "executionInfo": {
     "elapsed": 82,
     "status": "ok",
     "timestamp": 1624183383481,
     "user": {
      "displayName": "ALBIN P BENNY",
      "photoUrl": "https://lh3.googleusercontent.com/a-/AOh14GhpcHc2Te5FLA5H4iwsfN5KI5eaCaON-JBg2d1Wqg=s64",
      "userId": "08449600283866487124"
     },
     "user_tz": -330
    },
    "id": "0P_3u9ZbtFcD",
    "outputId": "09e9a58f-8024-4c8b-8b9c-d793a6604a08"
   },
   "outputs": [
    {
     "data": {
      "text/html": [
       "<div>\n",
       "<style scoped>\n",
       "    .dataframe tbody tr th:only-of-type {\n",
       "        vertical-align: middle;\n",
       "    }\n",
       "\n",
       "    .dataframe tbody tr th {\n",
       "        vertical-align: top;\n",
       "    }\n",
       "\n",
       "    .dataframe thead th {\n",
       "        text-align: right;\n",
       "    }\n",
       "</style>\n",
       "<table border=\"1\" class=\"dataframe\">\n",
       "  <thead>\n",
       "    <tr style=\"text-align: right;\">\n",
       "      <th></th>\n",
       "      <th>Age</th>\n",
       "      <th>age_group</th>\n",
       "    </tr>\n",
       "  </thead>\n",
       "  <tbody>\n",
       "    <tr>\n",
       "      <th>0</th>\n",
       "      <td>35</td>\n",
       "      <td>30-39</td>\n",
       "    </tr>\n",
       "    <tr>\n",
       "      <th>1</th>\n",
       "      <td>45</td>\n",
       "      <td>40-49</td>\n",
       "    </tr>\n",
       "    <tr>\n",
       "      <th>2</th>\n",
       "      <td>18</td>\n",
       "      <td>10-19</td>\n",
       "    </tr>\n",
       "    <tr>\n",
       "      <th>4</th>\n",
       "      <td>25</td>\n",
       "      <td>20-29</td>\n",
       "    </tr>\n",
       "    <tr>\n",
       "      <th>9</th>\n",
       "      <td>50</td>\n",
       "      <td>50-59</td>\n",
       "    </tr>\n",
       "    <tr>\n",
       "      <th>11</th>\n",
       "      <td>1</td>\n",
       "      <td>0-9</td>\n",
       "    </tr>\n",
       "    <tr>\n",
       "      <th>38</th>\n",
       "      <td>56</td>\n",
       "      <td>50-59</td>\n",
       "    </tr>\n",
       "  </tbody>\n",
       "</table>\n",
       "</div>"
      ],
      "text/plain": [
       "    Age age_group\n",
       "0    35     30-39\n",
       "1    45     40-49\n",
       "2    18     10-19\n",
       "4    25     20-29\n",
       "9    50     50-59\n",
       "11    1       0-9\n",
       "38   56     50-59"
      ]
     },
     "execution_count": 12,
     "metadata": {},
     "output_type": "execute_result"
    }
   ],
   "source": [
    "labels = ['0-9', '10-19', '20-29', '30-39', '40-49', '50-59']\n",
    "df['age_group'] = pd.cut(df.Age, range(0, 70, 10), right=False, labels=labels)\n",
    "df[['Age', 'age_group']].drop_duplicates()[:10]"
   ]
  },
  {
   "cell_type": "code",
   "execution_count": 13,
   "metadata": {
    "colab": {
     "base_uri": "https://localhost:8080/",
     "height": 367
    },
    "executionInfo": {
     "elapsed": 81,
     "status": "ok",
     "timestamp": 1624183383485,
     "user": {
      "displayName": "ALBIN P BENNY",
      "photoUrl": "https://lh3.googleusercontent.com/a-/AOh14GhpcHc2Te5FLA5H4iwsfN5KI5eaCaON-JBg2d1Wqg=s64",
      "userId": "08449600283866487124"
     },
     "user_tz": -330
    },
    "id": "xRsp4eEotG-t",
    "outputId": "d77239d0-16af-4292-b24c-5b4daeee4ab1"
   },
   "outputs": [
    {
     "data": {
      "text/plain": [
       "Text(0.5, 0, 'Age')"
      ]
     },
     "execution_count": 13,
     "metadata": {},
     "output_type": "execute_result"
    },
    {
     "data": {
      "image/png": "[encoded data removed]",
      "text/plain": [
       "<Figure size 720x360 with 1 Axes>"
      ]
     },
     "metadata": {
      "needs_background": "light"
     },
     "output_type": "display_data"
    }
   ],
   "source": [
    "# count plot of age groups\n",
    "plt.figure(figsize =(10,5))\n",
    "sns.countplot(df['age_group'])\n",
    "plt.title(\"Distribution of users ages\")\n",
    "plt.ylabel('count of users')\n",
    "plt.xlabel('Age')"
   ]
  },
  {
   "cell_type": "code",
   "execution_count": null,
   "metadata": {
    "executionInfo": {
     "elapsed": 71,
     "status": "ok",
     "timestamp": 1624183383489,
     "user": {
      "displayName": "ALBIN P BENNY",
      "photoUrl": "https://lh3.googleusercontent.com/a-/AOh14GhpcHc2Te5FLA5H4iwsfN5KI5eaCaON-JBg2d1Wqg=s64",
      "userId": "08449600283866487124"
     },
     "user_tz": -330
    },
    "id": "4ckuN4uItJBF"
   },
   "outputs": [],
   "source": []
  },
  {
   "cell_type": "markdown",
   "metadata": {
    "id": "VrHYKnY5tLmh"
   },
   "source": [
    "### Visualize overall rating by users"
   ]
  },
  {
   "cell_type": "code",
   "execution_count": 14,
   "metadata": {
    "colab": {
     "base_uri": "https://localhost:8080/"
    },
    "executionInfo": {
     "elapsed": 98,
     "status": "ok",
     "timestamp": 1624183383518,
     "user": {
      "displayName": "ALBIN P BENNY",
      "photoUrl": "https://lh3.googleusercontent.com/a-/AOh14GhpcHc2Te5FLA5H4iwsfN5KI5eaCaON-JBg2d1Wqg=s64",
      "userId": "08449600283866487124"
     },
     "user_tz": -330
    },
    "id": "8IIaB60EtMNE",
    "outputId": "54f94a02-f2e7-421d-acd7-d844ff088a46"
   },
   "outputs": [
    {
     "data": {
      "text/plain": [
       "4.0    348944\n",
       "3.0    261189\n",
       "5.0    226292\n",
       "2.0    107557\n",
       "1.0     56174\n",
       "Name: Rating, dtype: int64"
      ]
     },
     "execution_count": 14,
     "metadata": {},
     "output_type": "execute_result"
    }
   ],
   "source": [
    "df['Rating'].value_counts()"
   ]
  },
  {
   "cell_type": "code",
   "execution_count": 15,
   "metadata": {
    "colab": {
     "base_uri": "https://localhost:8080/",
     "height": 351
    },
    "executionInfo": {
     "elapsed": 544,
     "status": "ok",
     "timestamp": 1624183383974,
     "user": {
      "displayName": "ALBIN P BENNY",
      "photoUrl": "https://lh3.googleusercontent.com/a-/AOh14GhpcHc2Te5FLA5H4iwsfN5KI5eaCaON-JBg2d1Wqg=s64",
      "userId": "08449600283866487124"
     },
     "user_tz": -330
    },
    "id": "3bW5YQeutNn1",
    "outputId": "9864f7af-6dde-4cb2-b229-33fac9f7ad7e"
   },
   "outputs": [
    {
     "data": {
      "text/plain": [
       "<AxesSubplot:xlabel='Rating', ylabel='count'>"
      ]
     },
     "execution_count": 15,
     "metadata": {},
     "output_type": "execute_result"
    },
    {
     "data": {
      "image/png": "[encoded data removed]",
      "text/plain": [
       "<Figure size 720x360 with 1 Axes>"
      ]
     },
     "metadata": {
      "needs_background": "light"
     },
     "output_type": "display_data"
    }
   ],
   "source": [
    "# countplot - Rating\n",
    "plt.figure(figsize =(10,5))\n",
    "sns.countplot(df['Rating'])"
   ]
  },
  {
   "cell_type": "markdown",
   "metadata": {},
   "source": [
    "* majority of rating is 4 (counts - 348944)"
   ]
  },
  {
   "cell_type": "code",
   "execution_count": 16,
   "metadata": {
    "executionInfo": {
     "elapsed": 39,
     "status": "ok",
     "timestamp": 1624183383980,
     "user": {
      "displayName": "ALBIN P BENNY",
      "photoUrl": "https://lh3.googleusercontent.com/a-/AOh14GhpcHc2Te5FLA5H4iwsfN5KI5eaCaON-JBg2d1Wqg=s64",
      "userId": "08449600283866487124"
     },
     "user_tz": -330
    },
    "id": "cUvHRTdotPVU"
   },
   "outputs": [],
   "source": [
    "gby_title = df.groupby('Title')\n",
    "gby_rating = df.groupby('Rating')\n",
    "gby_userid = df.groupby('UserID')"
   ]
  },
  {
   "cell_type": "code",
   "execution_count": 17,
   "metadata": {
    "colab": {
     "base_uri": "https://localhost:8080/"
    },
    "executionInfo": {
     "elapsed": 35,
     "status": "ok",
     "timestamp": 1624183383982,
     "user": {
      "displayName": "ALBIN P BENNY",
      "photoUrl": "https://lh3.googleusercontent.com/a-/AOh14GhpcHc2Te5FLA5H4iwsfN5KI5eaCaON-JBg2d1Wqg=s64",
      "userId": "08449600283866487124"
     },
     "user_tz": -330
    },
    "id": "Tlmzup7ntjQK",
    "outputId": "64327c41-65f4-42c3-9439-a7a67e7b249b"
   },
   "outputs": [
    {
     "name": "stdout",
     "output_type": "stream",
     "text": [
      "Title\n",
      "Another Man's Poison (1952)    1\n",
      "Night Tide (1961)              1\n",
      "Shadows (Cienie) (1988)        1\n",
      "McCullochs, The (1975)         1\n",
      "Anna (1996)                    1\n",
      "dtype: int64\n"
     ]
    }
   ],
   "source": [
    "movies = gby_title.size().sort_values(ascending=True).head()\n",
    "print(movies)"
   ]
  },
  {
   "cell_type": "code",
   "execution_count": null,
   "metadata": {
    "executionInfo": {
     "elapsed": 29,
     "status": "ok",
     "timestamp": 1624183383985,
     "user": {
      "displayName": "ALBIN P BENNY",
      "photoUrl": "https://lh3.googleusercontent.com/a-/AOh14GhpcHc2Te5FLA5H4iwsfN5KI5eaCaON-JBg2d1Wqg=s64",
      "userId": "08449600283866487124"
     },
     "user_tz": -330
    },
    "id": "ktc_lU95tk4V"
   },
   "outputs": [],
   "source": []
  },
  {
   "cell_type": "markdown",
   "metadata": {
    "id": "h4zPCSJ-tnAN"
   },
   "source": [
    "### Find and visualize the user rating of the movie “Toy Story”"
   ]
  },
  {
   "cell_type": "code",
   "execution_count": 18,
   "metadata": {
    "colab": {
     "base_uri": "https://localhost:8080/",
     "height": 419
    },
    "executionInfo": {
     "elapsed": 3041,
     "status": "ok",
     "timestamp": 1624183387000,
     "user": {
      "displayName": "ALBIN P BENNY",
      "photoUrl": "https://lh3.googleusercontent.com/a-/AOh14GhpcHc2Te5FLA5H4iwsfN5KI5eaCaON-JBg2d1Wqg=s64",
      "userId": "08449600283866487124"
     },
     "user_tz": -330
    },
    "id": "q6tmYpjUtqMZ",
    "outputId": "e48d9b3f-2042-464a-ab64-493c7b004d99"
   },
   "outputs": [
    {
     "data": {
      "text/html": [
       "<div>\n",
       "<style scoped>\n",
       "    .dataframe tbody tr th:only-of-type {\n",
       "        vertical-align: middle;\n",
       "    }\n",
       "\n",
       "    .dataframe tbody tr th {\n",
       "        vertical-align: top;\n",
       "    }\n",
       "\n",
       "    .dataframe thead th {\n",
       "        text-align: right;\n",
       "    }\n",
       "</style>\n",
       "<table border=\"1\" class=\"dataframe\">\n",
       "  <thead>\n",
       "    <tr style=\"text-align: right;\">\n",
       "      <th></th>\n",
       "      <th>MovieID</th>\n",
       "      <th>Title</th>\n",
       "      <th>Genres</th>\n",
       "      <th>UserID</th>\n",
       "      <th>Rating</th>\n",
       "      <th>Timestamp</th>\n",
       "      <th>Gender</th>\n",
       "      <th>Age</th>\n",
       "      <th>Occupation</th>\n",
       "      <th>Zip-code</th>\n",
       "      <th>age_group</th>\n",
       "    </tr>\n",
       "  </thead>\n",
       "  <tbody>\n",
       "    <tr>\n",
       "      <th>834568</th>\n",
       "      <td>3114</td>\n",
       "      <td>Toy Story 2 (1999)</td>\n",
       "      <td>Animation|Children's|Comedy</td>\n",
       "      <td>3.0</td>\n",
       "      <td>3.0</td>\n",
       "      <td>978298103.0</td>\n",
       "      <td>M</td>\n",
       "      <td>25</td>\n",
       "      <td>15</td>\n",
       "      <td>55117</td>\n",
       "      <td>20-29</td>\n",
       "    </tr>\n",
       "    <tr>\n",
       "      <th>834569</th>\n",
       "      <td>3114</td>\n",
       "      <td>Toy Story 2 (1999)</td>\n",
       "      <td>Animation|Children's|Comedy</td>\n",
       "      <td>9.0</td>\n",
       "      <td>4.0</td>\n",
       "      <td>978225952.0</td>\n",
       "      <td>M</td>\n",
       "      <td>25</td>\n",
       "      <td>17</td>\n",
       "      <td>61614</td>\n",
       "      <td>20-29</td>\n",
       "    </tr>\n",
       "    <tr>\n",
       "      <th>834570</th>\n",
       "      <td>3114</td>\n",
       "      <td>Toy Story 2 (1999)</td>\n",
       "      <td>Animation|Children's|Comedy</td>\n",
       "      <td>10.0</td>\n",
       "      <td>4.0</td>\n",
       "      <td>978225759.0</td>\n",
       "      <td>F</td>\n",
       "      <td>35</td>\n",
       "      <td>1</td>\n",
       "      <td>95370</td>\n",
       "      <td>30-39</td>\n",
       "    </tr>\n",
       "    <tr>\n",
       "      <th>834571</th>\n",
       "      <td>3114</td>\n",
       "      <td>Toy Story 2 (1999)</td>\n",
       "      <td>Animation|Children's|Comedy</td>\n",
       "      <td>17.0</td>\n",
       "      <td>5.0</td>\n",
       "      <td>978159386.0</td>\n",
       "      <td>M</td>\n",
       "      <td>50</td>\n",
       "      <td>1</td>\n",
       "      <td>95350</td>\n",
       "      <td>50-59</td>\n",
       "    </tr>\n",
       "    <tr>\n",
       "      <th>834572</th>\n",
       "      <td>3114</td>\n",
       "      <td>Toy Story 2 (1999)</td>\n",
       "      <td>Animation|Children's|Comedy</td>\n",
       "      <td>19.0</td>\n",
       "      <td>4.0</td>\n",
       "      <td>978147462.0</td>\n",
       "      <td>M</td>\n",
       "      <td>1</td>\n",
       "      <td>10</td>\n",
       "      <td>48073</td>\n",
       "      <td>0-9</td>\n",
       "    </tr>\n",
       "    <tr>\n",
       "      <th>...</th>\n",
       "      <td>...</td>\n",
       "      <td>...</td>\n",
       "      <td>...</td>\n",
       "      <td>...</td>\n",
       "      <td>...</td>\n",
       "      <td>...</td>\n",
       "      <td>...</td>\n",
       "      <td>...</td>\n",
       "      <td>...</td>\n",
       "      <td>...</td>\n",
       "      <td>...</td>\n",
       "    </tr>\n",
       "    <tr>\n",
       "      <th>836147</th>\n",
       "      <td>3114</td>\n",
       "      <td>Toy Story 2 (1999)</td>\n",
       "      <td>Animation|Children's|Comedy</td>\n",
       "      <td>6022.0</td>\n",
       "      <td>5.0</td>\n",
       "      <td>956755741.0</td>\n",
       "      <td>M</td>\n",
       "      <td>25</td>\n",
       "      <td>17</td>\n",
       "      <td>57006</td>\n",
       "      <td>20-29</td>\n",
       "    </tr>\n",
       "    <tr>\n",
       "      <th>836148</th>\n",
       "      <td>3114</td>\n",
       "      <td>Toy Story 2 (1999)</td>\n",
       "      <td>Animation|Children's|Comedy</td>\n",
       "      <td>6024.0</td>\n",
       "      <td>4.0</td>\n",
       "      <td>956749447.0</td>\n",
       "      <td>M</td>\n",
       "      <td>25</td>\n",
       "      <td>12</td>\n",
       "      <td>53705</td>\n",
       "      <td>20-29</td>\n",
       "    </tr>\n",
       "    <tr>\n",
       "      <th>836149</th>\n",
       "      <td>3114</td>\n",
       "      <td>Toy Story 2 (1999)</td>\n",
       "      <td>Animation|Children's|Comedy</td>\n",
       "      <td>6027.0</td>\n",
       "      <td>4.0</td>\n",
       "      <td>956726766.0</td>\n",
       "      <td>M</td>\n",
       "      <td>18</td>\n",
       "      <td>4</td>\n",
       "      <td>20742</td>\n",
       "      <td>10-19</td>\n",
       "    </tr>\n",
       "    <tr>\n",
       "      <th>836150</th>\n",
       "      <td>3114</td>\n",
       "      <td>Toy Story 2 (1999)</td>\n",
       "      <td>Animation|Children's|Comedy</td>\n",
       "      <td>6036.0</td>\n",
       "      <td>4.0</td>\n",
       "      <td>956710231.0</td>\n",
       "      <td>F</td>\n",
       "      <td>25</td>\n",
       "      <td>15</td>\n",
       "      <td>32603</td>\n",
       "      <td>20-29</td>\n",
       "    </tr>\n",
       "    <tr>\n",
       "      <th>836151</th>\n",
       "      <td>3114</td>\n",
       "      <td>Toy Story 2 (1999)</td>\n",
       "      <td>Animation|Children's|Comedy</td>\n",
       "      <td>6037.0</td>\n",
       "      <td>4.0</td>\n",
       "      <td>956719174.0</td>\n",
       "      <td>F</td>\n",
       "      <td>45</td>\n",
       "      <td>1</td>\n",
       "      <td>76006</td>\n",
       "      <td>40-49</td>\n",
       "    </tr>\n",
       "  </tbody>\n",
       "</table>\n",
       "<p>1584 rows × 11 columns</p>\n",
       "</div>"
      ],
      "text/plain": [
       "        MovieID               Title                       Genres  UserID  \\\n",
       "834568     3114  Toy Story 2 (1999)  Animation|Children's|Comedy     3.0   \n",
       "834569     3114  Toy Story 2 (1999)  Animation|Children's|Comedy     9.0   \n",
       "834570     3114  Toy Story 2 (1999)  Animation|Children's|Comedy    10.0   \n",
       "834571     3114  Toy Story 2 (1999)  Animation|Children's|Comedy    17.0   \n",
       "834572     3114  Toy Story 2 (1999)  Animation|Children's|Comedy    19.0   \n",
       "...         ...                 ...                          ...     ...   \n",
       "836147     3114  Toy Story 2 (1999)  Animation|Children's|Comedy  6022.0   \n",
       "836148     3114  Toy Story 2 (1999)  Animation|Children's|Comedy  6024.0   \n",
       "836149     3114  Toy Story 2 (1999)  Animation|Children's|Comedy  6027.0   \n",
       "836150     3114  Toy Story 2 (1999)  Animation|Children's|Comedy  6036.0   \n",
       "836151     3114  Toy Story 2 (1999)  Animation|Children's|Comedy  6037.0   \n",
       "\n",
       "        Rating    Timestamp Gender  Age  Occupation Zip-code age_group  \n",
       "834568     3.0  978298103.0      M   25          15    55117     20-29  \n",
       "834569     4.0  978225952.0      M   25          17    61614     20-29  \n",
       "834570     4.0  978225759.0      F   35           1    95370     30-39  \n",
       "834571     5.0  978159386.0      M   50           1    95350     50-59  \n",
       "834572     4.0  978147462.0      M    1          10    48073       0-9  \n",
       "...        ...          ...    ...  ...         ...      ...       ...  \n",
       "836147     5.0  956755741.0      M   25          17    57006     20-29  \n",
       "836148     4.0  956749447.0      M   25          12    53705     20-29  \n",
       "836149     4.0  956726766.0      M   18           4    20742     10-19  \n",
       "836150     4.0  956710231.0      F   25          15    32603     20-29  \n",
       "836151     4.0  956719174.0      F   45           1    76006     40-49  \n",
       "\n",
       "[1584 rows x 11 columns]"
      ]
     },
     "execution_count": 18,
     "metadata": {},
     "output_type": "execute_result"
    }
   ],
   "source": [
    "ToyStory_df = gby_title.get_group('Toy Story 2 (1999)')\n",
    "ToyStory_df"
   ]
  },
  {
   "cell_type": "code",
   "execution_count": 19,
   "metadata": {
    "colab": {
     "base_uri": "https://localhost:8080/"
    },
    "executionInfo": {
     "elapsed": 31,
     "status": "ok",
     "timestamp": 1624183387003,
     "user": {
      "displayName": "ALBIN P BENNY",
      "photoUrl": "https://lh3.googleusercontent.com/a-/AOh14GhpcHc2Te5FLA5H4iwsfN5KI5eaCaON-JBg2d1Wqg=s64",
      "userId": "08449600283866487124"
     },
     "user_tz": -330
    },
    "id": "hEqleHd5ttsj",
    "outputId": "d1d8286f-d93f-4325-b649-f02de112f108",
    "scrolled": false
   },
   "outputs": [
    {
     "data": {
      "text/plain": [
       "Rating\n",
       "1.0     25\n",
       "2.0     44\n",
       "3.0    214\n",
       "4.0    577\n",
       "5.0    724\n",
       "Name: UserID, dtype: int64"
      ]
     },
     "execution_count": 19,
     "metadata": {},
     "output_type": "execute_result"
    }
   ],
   "source": [
    "df[df.Title == 'Toy Story 2 (1999)'].groupby('Rating')['UserID'].count()"
   ]
  },
  {
   "cell_type": "code",
   "execution_count": 20,
   "metadata": {
    "colab": {
     "base_uri": "https://localhost:8080/",
     "height": 315
    },
    "executionInfo": {
     "elapsed": 820,
     "status": "ok",
     "timestamp": 1624183387800,
     "user": {
      "displayName": "ALBIN P BENNY",
      "photoUrl": "https://lh3.googleusercontent.com/a-/AOh14GhpcHc2Te5FLA5H4iwsfN5KI5eaCaON-JBg2d1Wqg=s64",
      "userId": "08449600283866487124"
     },
     "user_tz": -330
    },
    "id": "Qk2U2Rs2tuQ9",
    "outputId": "5aed9dbc-f036-4542-a597-4637fa7026e5",
    "scrolled": true
   },
   "outputs": [
    {
     "data": {
      "text/plain": [
       "array([[<AxesSubplot:title={'center':'Rating'}>]], dtype=object)"
      ]
     },
     "execution_count": 20,
     "metadata": {},
     "output_type": "execute_result"
    },
    {
     "data": {
      "image/png": "[encoded data removed]",
      "text/plain": [
       "<Figure size 432x288 with 1 Axes>"
      ]
     },
     "metadata": {
      "needs_background": "light"
     },
     "output_type": "display_data"
    }
   ],
   "source": [
    "df[df['MovieID'] == 3114].hist(column='Rating')"
   ]
  },
  {
   "cell_type": "markdown",
   "metadata": {},
   "source": [
    "* Majority user rating of the movie “Toy Story” is 5"
   ]
  },
  {
   "cell_type": "code",
   "execution_count": null,
   "metadata": {
    "executionInfo": {
     "elapsed": 322,
     "status": "ok",
     "timestamp": 1624183387838,
     "user": {
      "displayName": "ALBIN P BENNY",
      "photoUrl": "https://lh3.googleusercontent.com/a-/AOh14GhpcHc2Te5FLA5H4iwsfN5KI5eaCaON-JBg2d1Wqg=s64",
      "userId": "08449600283866487124"
     },
     "user_tz": -330
    },
    "id": "38v1BNC_twA1"
   },
   "outputs": [],
   "source": []
  },
  {
   "cell_type": "markdown",
   "metadata": {
    "id": "eMvYCdottzBv"
   },
   "source": [
    "### Find and visualize the viewership of the movie “Toy Story” by age group"
   ]
  },
  {
   "cell_type": "code",
   "execution_count": 21,
   "metadata": {
    "colab": {
     "base_uri": "https://localhost:8080/",
     "height": 204
    },
    "executionInfo": {
     "elapsed": 331,
     "status": "ok",
     "timestamp": 1624183387851,
     "user": {
      "displayName": "ALBIN P BENNY",
      "photoUrl": "https://lh3.googleusercontent.com/a-/AOh14GhpcHc2Te5FLA5H4iwsfN5KI5eaCaON-JBg2d1Wqg=s64",
      "userId": "08449600283866487124"
     },
     "user_tz": -330
    },
    "id": "yBAzTJDbt0_H",
    "outputId": "dee989f9-298a-4cdd-f61b-7bae3f6feabb"
   },
   "outputs": [
    {
     "data": {
      "text/html": [
       "<div>\n",
       "<style scoped>\n",
       "    .dataframe tbody tr th:only-of-type {\n",
       "        vertical-align: middle;\n",
       "    }\n",
       "\n",
       "    .dataframe tbody tr th {\n",
       "        vertical-align: top;\n",
       "    }\n",
       "\n",
       "    .dataframe thead th {\n",
       "        text-align: right;\n",
       "    }\n",
       "</style>\n",
       "<table border=\"1\" class=\"dataframe\">\n",
       "  <thead>\n",
       "    <tr style=\"text-align: right;\">\n",
       "      <th></th>\n",
       "      <th>Title</th>\n",
       "      <th>age_group</th>\n",
       "    </tr>\n",
       "  </thead>\n",
       "  <tbody>\n",
       "    <tr>\n",
       "      <th>834568</th>\n",
       "      <td>Toy Story 2 (1999)</td>\n",
       "      <td>20-29</td>\n",
       "    </tr>\n",
       "    <tr>\n",
       "      <th>834569</th>\n",
       "      <td>Toy Story 2 (1999)</td>\n",
       "      <td>20-29</td>\n",
       "    </tr>\n",
       "    <tr>\n",
       "      <th>834570</th>\n",
       "      <td>Toy Story 2 (1999)</td>\n",
       "      <td>30-39</td>\n",
       "    </tr>\n",
       "    <tr>\n",
       "      <th>834571</th>\n",
       "      <td>Toy Story 2 (1999)</td>\n",
       "      <td>50-59</td>\n",
       "    </tr>\n",
       "    <tr>\n",
       "      <th>834572</th>\n",
       "      <td>Toy Story 2 (1999)</td>\n",
       "      <td>0-9</td>\n",
       "    </tr>\n",
       "  </tbody>\n",
       "</table>\n",
       "</div>"
      ],
      "text/plain": [
       "                     Title age_group\n",
       "834568  Toy Story 2 (1999)     20-29\n",
       "834569  Toy Story 2 (1999)     20-29\n",
       "834570  Toy Story 2 (1999)     30-39\n",
       "834571  Toy Story 2 (1999)     50-59\n",
       "834572  Toy Story 2 (1999)       0-9"
      ]
     },
     "execution_count": 21,
     "metadata": {},
     "output_type": "execute_result"
    }
   ],
   "source": [
    "ToyStory_df[['Title','age_group']].head()"
   ]
  },
  {
   "cell_type": "code",
   "execution_count": 22,
   "metadata": {
    "colab": {
     "base_uri": "https://localhost:8080/"
    },
    "executionInfo": {
     "elapsed": 327,
     "status": "ok",
     "timestamp": 1624183387888,
     "user": {
      "displayName": "ALBIN P BENNY",
      "photoUrl": "https://lh3.googleusercontent.com/a-/AOh14GhpcHc2Te5FLA5H4iwsfN5KI5eaCaON-JBg2d1Wqg=s64",
      "userId": "08449600283866487124"
     },
     "user_tz": -330
    },
    "id": "JrW9XDuut2gP",
    "outputId": "083bd976-bf13-47c1-ed29-ecbed80626fe"
   },
   "outputs": [
    {
     "data": {
      "text/plain": [
       "Age\n",
       "1      98\n",
       "18    331\n",
       "25    578\n",
       "35    342\n",
       "45    112\n",
       "50     72\n",
       "56     51\n",
       "Name: UserID, dtype: int64"
      ]
     },
     "execution_count": 22,
     "metadata": {},
     "output_type": "execute_result"
    }
   ],
   "source": [
    "df[df.Title == 'Toy Story 2 (1999)'].groupby('Age')['UserID'].count()"
   ]
  },
  {
   "cell_type": "code",
   "execution_count": 23,
   "metadata": {
    "executionInfo": {
     "elapsed": 324,
     "status": "ok",
     "timestamp": 1624183387922,
     "user": {
      "displayName": "ALBIN P BENNY",
      "photoUrl": "https://lh3.googleusercontent.com/a-/AOh14GhpcHc2Te5FLA5H4iwsfN5KI5eaCaON-JBg2d1Wqg=s64",
      "userId": "08449600283866487124"
     },
     "user_tz": -330
    },
    "id": "lIg8aBC9t4Of",
    "scrolled": false
   },
   "outputs": [
    {
     "data": {
      "text/plain": [
       "<function matplotlib.pyplot.show(close=None, block=None)>"
      ]
     },
     "execution_count": 23,
     "metadata": {},
     "output_type": "execute_result"
    },
    {
     "data": {
      "image/png": "[encoded data removed]",
      "text/plain": [
       "<Figure size 720x360 with 1 Axes>"
      ]
     },
     "metadata": {
      "needs_background": "light"
     },
     "output_type": "display_data"
    }
   ],
   "source": [
    "df[df.Title == 'Toy Story 2 (1999)'].groupby('age_group')['MovieID'].count().plot(kind = 'bar', color = 'green',figsize = (10,5))\n",
    "plt.xlabel('Age Group of Users in Population')\n",
    "plt.ylabel('Rating')\n",
    "plt.title('Visualization of User Age Group Rating of Toy Story')\n",
    "plt.xticks(rotation = 0)\n",
    "plt.show"
   ]
  },
  {
   "cell_type": "markdown",
   "metadata": {},
   "source": [
    "* users between 20-29 age group have highest viewership of the movie “Toy Story” "
   ]
  },
  {
   "cell_type": "code",
   "execution_count": null,
   "metadata": {},
   "outputs": [],
   "source": []
  },
  {
   "cell_type": "markdown",
   "metadata": {
    "id": "lE5x5HEOt6Uh"
   },
   "source": [
    "### Find and visualize the top 25 movies by viewership rating"
   ]
  },
  {
   "cell_type": "code",
   "execution_count": 24,
   "metadata": {
    "colab": {
     "base_uri": "https://localhost:8080/"
    },
    "executionInfo": {
     "elapsed": 385,
     "status": "ok",
     "timestamp": 1624183387986,
     "user": {
      "displayName": "ALBIN P BENNY",
      "photoUrl": "https://lh3.googleusercontent.com/a-/AOh14GhpcHc2Te5FLA5H4iwsfN5KI5eaCaON-JBg2d1Wqg=s64",
      "userId": "08449600283866487124"
     },
     "user_tz": -330
    },
    "id": "3QdL6-Qgt8C3",
    "outputId": "f321cbfd-3143-4bda-8f4a-58583e75dcc6"
   },
   "outputs": [
    {
     "data": {
      "text/plain": [
       "Title\n",
       "American Beauty (1999)                                   3428\n",
       "Star Wars: Episode IV - A New Hope (1977)                2990\n",
       "Star Wars: Episode V - The Empire Strikes Back (1980)    2990\n",
       "Star Wars: Episode VI - Return of the Jedi (1983)        2883\n",
       "Jurassic Park (1993)                                     2672\n",
       "Saving Private Ryan (1998)                               2652\n",
       "Terminator 2: Judgment Day (1991)                        2649\n",
       "Matrix, The (1999)                                       2590\n",
       "Back to the Future (1985)                                2582\n",
       "Silence of the Lambs, The (1991)                         2578\n",
       "Men in Black (1997)                                      2538\n",
       "Raiders of the Lost Ark (1981)                           2514\n",
       "Fargo (1996)                                             2512\n",
       "Sixth Sense, The (1999)                                  2458\n",
       "Braveheart (1995)                                        2443\n",
       "Shakespeare in Love (1998)                               2369\n",
       "Princess Bride, The (1987)                               2317\n",
       "Schindler's List (1993)                                  2303\n",
       "L.A. Confidential (1997)                                 2288\n",
       "Groundhog Day (1993)                                     2278\n",
       "E.T. the Extra-Terrestrial (1982)                        2268\n",
       "Star Wars: Episode I - The Phantom Menace (1999)         2250\n",
       "Being John Malkovich (1999)                              2241\n",
       "Shawshank Redemption, The (1994)                         2227\n",
       "Godfather, The (1972)                                    2223\n",
       "dtype: int64"
      ]
     },
     "execution_count": 24,
     "metadata": {},
     "output_type": "execute_result"
    }
   ],
   "source": [
    "# movie name and total count of ratings\n",
    "gby_title.size().sort_values(ascending=False)[:25]"
   ]
  },
  {
   "cell_type": "code",
   "execution_count": 25,
   "metadata": {
    "colab": {
     "base_uri": "https://localhost:8080/"
    },
    "executionInfo": {
     "elapsed": 313,
     "status": "ok",
     "timestamp": 1624183387989,
     "user": {
      "displayName": "ALBIN P BENNY",
      "photoUrl": "https://lh3.googleusercontent.com/a-/AOh14GhpcHc2Te5FLA5H4iwsfN5KI5eaCaON-JBg2d1Wqg=s64",
      "userId": "08449600283866487124"
     },
     "user_tz": -330
    },
    "id": "ZORG5yTSt-3H",
    "outputId": "5ea30c9e-a2f3-4db2-8b47-40cf70d90909"
   },
   "outputs": [
    {
     "data": {
      "text/plain": [
       "MovieID\n",
       "2858    3428\n",
       "1196    2990\n",
       "260     2990\n",
       "1210    2883\n",
       "480     2672\n",
       "2028    2652\n",
       "589     2649\n",
       "2571    2590\n",
       "1270    2582\n",
       "593     2578\n",
       "1580    2538\n",
       "1198    2514\n",
       "608     2512\n",
       "2762    2458\n",
       "110     2443\n",
       "2396    2369\n",
       "1197    2317\n",
       "527     2303\n",
       "1617    2288\n",
       "1265    2278\n",
       "1097    2268\n",
       "2628    2250\n",
       "2997    2241\n",
       "318     2227\n",
       "858     2223\n",
       "Name: Rating, dtype: int64"
      ]
     },
     "execution_count": 25,
     "metadata": {},
     "output_type": "execute_result"
    }
   ],
   "source": [
    "# movie id and total count of rating\n",
    "df.groupby('MovieID')['Rating'].count().sort_values(ascending = False)[:25]"
   ]
  },
  {
   "cell_type": "code",
   "execution_count": 26,
   "metadata": {
    "colab": {
     "base_uri": "https://localhost:8080/",
     "height": 584
    },
    "executionInfo": {
     "elapsed": 1606,
     "status": "ok",
     "timestamp": 1624183389344,
     "user": {
      "displayName": "ALBIN P BENNY",
      "photoUrl": "https://lh3.googleusercontent.com/a-/AOh14GhpcHc2Te5FLA5H4iwsfN5KI5eaCaON-JBg2d1Wqg=s64",
      "userId": "08449600283866487124"
     },
     "user_tz": -330
    },
    "id": "5uxZVBGUuAmG",
    "outputId": "519643d3-7df5-4d99-9fe1-b75e2d579dc7"
   },
   "outputs": [
    {
     "data": {
      "image/png": "[encoded data removed]",
      "text/plain": [
       "<Figure size 720x360 with 1 Axes>"
      ]
     },
     "metadata": {
      "needs_background": "light"
     },
     "output_type": "display_data"
    }
   ],
   "source": [
    "# visualization of top 25 movies by viewership rating\n",
    "df.groupby('MovieID')['Rating'].count().sort_values(ascending = False)[:25].plot(kind ='bar', color = 'g',figsize = (10,5))\n",
    "plt.xlabel('Top_25_MovieID')\n",
    "plt.ylabel('Ratings')\n",
    "plt.title('Visualization of Top 25 Movies Viewership Rating')\n",
    "plt.show()"
   ]
  },
  {
   "cell_type": "markdown",
   "metadata": {
    "executionInfo": {
     "elapsed": 338,
     "status": "ok",
     "timestamp": 1624183389370,
     "user": {
      "displayName": "ALBIN P BENNY",
      "photoUrl": "https://lh3.googleusercontent.com/a-/AOh14GhpcHc2Te5FLA5H4iwsfN5KI5eaCaON-JBg2d1Wqg=s64",
      "userId": "08449600283866487124"
     },
     "user_tz": -330
    },
    "id": "GDHq6St0uCLl"
   },
   "source": []
  },
  {
   "cell_type": "markdown",
   "metadata": {
    "id": "RT91KXgCuE_G"
   },
   "source": [
    "### Find the rating for a particular user of user id = 2696"
   ]
  },
  {
   "cell_type": "code",
   "execution_count": 27,
   "metadata": {
    "colab": {
     "base_uri": "https://localhost:8080/"
    },
    "executionInfo": {
     "elapsed": 348,
     "status": "ok",
     "timestamp": 1624183389389,
     "user": {
      "displayName": "ALBIN P BENNY",
      "photoUrl": "https://lh3.googleusercontent.com/a-/AOh14GhpcHc2Te5FLA5H4iwsfN5KI5eaCaON-JBg2d1Wqg=s64",
      "userId": "08449600283866487124"
     },
     "user_tz": -330
    },
    "id": "DtvRhwRquGmf",
    "outputId": "89fece33-df8a-4c18-eec7-5ece1a53fd3f"
   },
   "outputs": [
    {
     "data": {
      "text/plain": [
       "Rating\n",
       "1.0     2\n",
       "2.0     3\n",
       "3.0     3\n",
       "4.0    11\n",
       "5.0     1\n",
       "Name: MovieID, dtype: int64"
      ]
     },
     "execution_count": 27,
     "metadata": {},
     "output_type": "execute_result"
    }
   ],
   "source": [
    "df[df.UserID == 2696].groupby('Rating')['MovieID'].count()"
   ]
  },
  {
   "cell_type": "code",
   "execution_count": 28,
   "metadata": {
    "colab": {
     "base_uri": "https://localhost:8080/",
     "height": 669
    },
    "executionInfo": {
     "elapsed": 302,
     "status": "ok",
     "timestamp": 1624183389394,
     "user": {
      "displayName": "ALBIN P BENNY",
      "photoUrl": "https://lh3.googleusercontent.com/a-/AOh14GhpcHc2Te5FLA5H4iwsfN5KI5eaCaON-JBg2d1Wqg=s64",
      "userId": "08449600283866487124"
     },
     "user_tz": -330
    },
    "id": "VV2S3_3XuIE9",
    "outputId": "320d86cd-e424-4982-d344-d80cd75b114f",
    "scrolled": false
   },
   "outputs": [
    {
     "data": {
      "text/html": [
       "<div>\n",
       "<style scoped>\n",
       "    .dataframe tbody tr th:only-of-type {\n",
       "        vertical-align: middle;\n",
       "    }\n",
       "\n",
       "    .dataframe tbody tr th {\n",
       "        vertical-align: top;\n",
       "    }\n",
       "\n",
       "    .dataframe thead th {\n",
       "        text-align: right;\n",
       "    }\n",
       "</style>\n",
       "<table border=\"1\" class=\"dataframe\">\n",
       "  <thead>\n",
       "    <tr style=\"text-align: right;\">\n",
       "      <th></th>\n",
       "      <th>MovieID</th>\n",
       "      <th>Title</th>\n",
       "      <th>Genres</th>\n",
       "      <th>UserID</th>\n",
       "      <th>Rating</th>\n",
       "      <th>Timestamp</th>\n",
       "      <th>Gender</th>\n",
       "      <th>Age</th>\n",
       "      <th>Occupation</th>\n",
       "      <th>Zip-code</th>\n",
       "      <th>age_group</th>\n",
       "    </tr>\n",
       "  </thead>\n",
       "  <tbody>\n",
       "    <tr>\n",
       "      <th>93181</th>\n",
       "      <td>350</td>\n",
       "      <td>Client, The (1994)</td>\n",
       "      <td>Drama|Mystery|Thriller</td>\n",
       "      <td>2696.0</td>\n",
       "      <td>3.0</td>\n",
       "      <td>973308886.0</td>\n",
       "      <td>M</td>\n",
       "      <td>25</td>\n",
       "      <td>7</td>\n",
       "      <td>24210</td>\n",
       "      <td>20-29</td>\n",
       "    </tr>\n",
       "    <tr>\n",
       "      <th>198446</th>\n",
       "      <td>800</td>\n",
       "      <td>Lone Star (1996)</td>\n",
       "      <td>Drama|Mystery</td>\n",
       "      <td>2696.0</td>\n",
       "      <td>5.0</td>\n",
       "      <td>973308842.0</td>\n",
       "      <td>M</td>\n",
       "      <td>25</td>\n",
       "      <td>7</td>\n",
       "      <td>24210</td>\n",
       "      <td>20-29</td>\n",
       "    </tr>\n",
       "    <tr>\n",
       "      <th>268245</th>\n",
       "      <td>1092</td>\n",
       "      <td>Basic Instinct (1992)</td>\n",
       "      <td>Mystery|Thriller</td>\n",
       "      <td>2696.0</td>\n",
       "      <td>4.0</td>\n",
       "      <td>973308886.0</td>\n",
       "      <td>M</td>\n",
       "      <td>25</td>\n",
       "      <td>7</td>\n",
       "      <td>24210</td>\n",
       "      <td>20-29</td>\n",
       "    </tr>\n",
       "    <tr>\n",
       "      <th>272478</th>\n",
       "      <td>1097</td>\n",
       "      <td>E.T. the Extra-Terrestrial (1982)</td>\n",
       "      <td>Children's|Drama|Fantasy|Sci-Fi</td>\n",
       "      <td>2696.0</td>\n",
       "      <td>3.0</td>\n",
       "      <td>973308690.0</td>\n",
       "      <td>M</td>\n",
       "      <td>25</td>\n",
       "      <td>7</td>\n",
       "      <td>24210</td>\n",
       "      <td>20-29</td>\n",
       "    </tr>\n",
       "    <tr>\n",
       "      <th>347231</th>\n",
       "      <td>1258</td>\n",
       "      <td>Shining, The (1980)</td>\n",
       "      <td>Horror</td>\n",
       "      <td>2696.0</td>\n",
       "      <td>4.0</td>\n",
       "      <td>973308710.0</td>\n",
       "      <td>M</td>\n",
       "      <td>25</td>\n",
       "      <td>7</td>\n",
       "      <td>24210</td>\n",
       "      <td>20-29</td>\n",
       "    </tr>\n",
       "    <tr>\n",
       "      <th>358279</th>\n",
       "      <td>1270</td>\n",
       "      <td>Back to the Future (1985)</td>\n",
       "      <td>Comedy|Sci-Fi</td>\n",
       "      <td>2696.0</td>\n",
       "      <td>2.0</td>\n",
       "      <td>973308676.0</td>\n",
       "      <td>M</td>\n",
       "      <td>25</td>\n",
       "      <td>7</td>\n",
       "      <td>24210</td>\n",
       "      <td>20-29</td>\n",
       "    </tr>\n",
       "    <tr>\n",
       "      <th>446187</th>\n",
       "      <td>1589</td>\n",
       "      <td>Cop Land (1997)</td>\n",
       "      <td>Crime|Drama|Mystery</td>\n",
       "      <td>2696.0</td>\n",
       "      <td>3.0</td>\n",
       "      <td>973308865.0</td>\n",
       "      <td>M</td>\n",
       "      <td>25</td>\n",
       "      <td>7</td>\n",
       "      <td>24210</td>\n",
       "      <td>20-29</td>\n",
       "    </tr>\n",
       "    <tr>\n",
       "      <th>455087</th>\n",
       "      <td>1617</td>\n",
       "      <td>L.A. Confidential (1997)</td>\n",
       "      <td>Crime|Film-Noir|Mystery|Thriller</td>\n",
       "      <td>2696.0</td>\n",
       "      <td>4.0</td>\n",
       "      <td>973308842.0</td>\n",
       "      <td>M</td>\n",
       "      <td>25</td>\n",
       "      <td>7</td>\n",
       "      <td>24210</td>\n",
       "      <td>20-29</td>\n",
       "    </tr>\n",
       "    <tr>\n",
       "      <th>457729</th>\n",
       "      <td>1625</td>\n",
       "      <td>Game, The (1997)</td>\n",
       "      <td>Mystery|Thriller</td>\n",
       "      <td>2696.0</td>\n",
       "      <td>4.0</td>\n",
       "      <td>973308842.0</td>\n",
       "      <td>M</td>\n",
       "      <td>25</td>\n",
       "      <td>7</td>\n",
       "      <td>24210</td>\n",
       "      <td>20-29</td>\n",
       "    </tr>\n",
       "    <tr>\n",
       "      <th>462367</th>\n",
       "      <td>1644</td>\n",
       "      <td>I Know What You Did Last Summer (1997)</td>\n",
       "      <td>Horror|Mystery|Thriller</td>\n",
       "      <td>2696.0</td>\n",
       "      <td>2.0</td>\n",
       "      <td>973308920.0</td>\n",
       "      <td>M</td>\n",
       "      <td>25</td>\n",
       "      <td>7</td>\n",
       "      <td>24210</td>\n",
       "      <td>20-29</td>\n",
       "    </tr>\n",
       "    <tr>\n",
       "      <th>462963</th>\n",
       "      <td>1645</td>\n",
       "      <td>Devil's Advocate, The (1997)</td>\n",
       "      <td>Crime|Horror|Mystery|Thriller</td>\n",
       "      <td>2696.0</td>\n",
       "      <td>4.0</td>\n",
       "      <td>973308904.0</td>\n",
       "      <td>M</td>\n",
       "      <td>25</td>\n",
       "      <td>7</td>\n",
       "      <td>24210</td>\n",
       "      <td>20-29</td>\n",
       "    </tr>\n",
       "    <tr>\n",
       "      <th>478552</th>\n",
       "      <td>1711</td>\n",
       "      <td>Midnight in the Garden of Good and Evil (1997)</td>\n",
       "      <td>Comedy|Crime|Drama|Mystery</td>\n",
       "      <td>2696.0</td>\n",
       "      <td>4.0</td>\n",
       "      <td>973308904.0</td>\n",
       "      <td>M</td>\n",
       "      <td>25</td>\n",
       "      <td>7</td>\n",
       "      <td>24210</td>\n",
       "      <td>20-29</td>\n",
       "    </tr>\n",
       "    <tr>\n",
       "      <th>491124</th>\n",
       "      <td>1783</td>\n",
       "      <td>Palmetto (1998)</td>\n",
       "      <td>Film-Noir|Mystery|Thriller</td>\n",
       "      <td>2696.0</td>\n",
       "      <td>4.0</td>\n",
       "      <td>973308865.0</td>\n",
       "      <td>M</td>\n",
       "      <td>25</td>\n",
       "      <td>7</td>\n",
       "      <td>24210</td>\n",
       "      <td>20-29</td>\n",
       "    </tr>\n",
       "    <tr>\n",
       "      <th>494819</th>\n",
       "      <td>1805</td>\n",
       "      <td>Wild Things (1998)</td>\n",
       "      <td>Crime|Drama|Mystery|Thriller</td>\n",
       "      <td>2696.0</td>\n",
       "      <td>4.0</td>\n",
       "      <td>973308886.0</td>\n",
       "      <td>M</td>\n",
       "      <td>25</td>\n",
       "      <td>7</td>\n",
       "      <td>24210</td>\n",
       "      <td>20-29</td>\n",
       "    </tr>\n",
       "    <tr>\n",
       "      <th>504893</th>\n",
       "      <td>1892</td>\n",
       "      <td>Perfect Murder, A (1998)</td>\n",
       "      <td>Mystery|Thriller</td>\n",
       "      <td>2696.0</td>\n",
       "      <td>4.0</td>\n",
       "      <td>973308904.0</td>\n",
       "      <td>M</td>\n",
       "      <td>25</td>\n",
       "      <td>7</td>\n",
       "      <td>24210</td>\n",
       "      <td>20-29</td>\n",
       "    </tr>\n",
       "    <tr>\n",
       "      <th>629752</th>\n",
       "      <td>2338</td>\n",
       "      <td>I Still Know What You Did Last Summer (1998)</td>\n",
       "      <td>Horror|Mystery|Thriller</td>\n",
       "      <td>2696.0</td>\n",
       "      <td>2.0</td>\n",
       "      <td>973308920.0</td>\n",
       "      <td>M</td>\n",
       "      <td>25</td>\n",
       "      <td>7</td>\n",
       "      <td>24210</td>\n",
       "      <td>20-29</td>\n",
       "    </tr>\n",
       "    <tr>\n",
       "      <th>643831</th>\n",
       "      <td>2389</td>\n",
       "      <td>Psycho (1998)</td>\n",
       "      <td>Crime|Horror|Thriller</td>\n",
       "      <td>2696.0</td>\n",
       "      <td>4.0</td>\n",
       "      <td>973308710.0</td>\n",
       "      <td>M</td>\n",
       "      <td>25</td>\n",
       "      <td>7</td>\n",
       "      <td>24210</td>\n",
       "      <td>20-29</td>\n",
       "    </tr>\n",
       "    <tr>\n",
       "      <th>729999</th>\n",
       "      <td>2713</td>\n",
       "      <td>Lake Placid (1999)</td>\n",
       "      <td>Horror|Thriller</td>\n",
       "      <td>2696.0</td>\n",
       "      <td>1.0</td>\n",
       "      <td>973308710.0</td>\n",
       "      <td>M</td>\n",
       "      <td>25</td>\n",
       "      <td>7</td>\n",
       "      <td>24210</td>\n",
       "      <td>20-29</td>\n",
       "    </tr>\n",
       "    <tr>\n",
       "      <th>849186</th>\n",
       "      <td>3176</td>\n",
       "      <td>Talented Mr. Ripley, The (1999)</td>\n",
       "      <td>Drama|Mystery|Thriller</td>\n",
       "      <td>2696.0</td>\n",
       "      <td>4.0</td>\n",
       "      <td>973308865.0</td>\n",
       "      <td>M</td>\n",
       "      <td>25</td>\n",
       "      <td>7</td>\n",
       "      <td>24210</td>\n",
       "      <td>20-29</td>\n",
       "    </tr>\n",
       "    <tr>\n",
       "      <th>887495</th>\n",
       "      <td>3386</td>\n",
       "      <td>JFK (1991)</td>\n",
       "      <td>Drama|Mystery</td>\n",
       "      <td>2696.0</td>\n",
       "      <td>1.0</td>\n",
       "      <td>973308842.0</td>\n",
       "      <td>M</td>\n",
       "      <td>25</td>\n",
       "      <td>7</td>\n",
       "      <td>24210</td>\n",
       "      <td>20-29</td>\n",
       "    </tr>\n",
       "  </tbody>\n",
       "</table>\n",
       "</div>"
      ],
      "text/plain": [
       "        MovieID                                           Title  \\\n",
       "93181       350                              Client, The (1994)   \n",
       "198446      800                                Lone Star (1996)   \n",
       "268245     1092                           Basic Instinct (1992)   \n",
       "272478     1097               E.T. the Extra-Terrestrial (1982)   \n",
       "347231     1258                             Shining, The (1980)   \n",
       "358279     1270                       Back to the Future (1985)   \n",
       "446187     1589                                 Cop Land (1997)   \n",
       "455087     1617                        L.A. Confidential (1997)   \n",
       "457729     1625                                Game, The (1997)   \n",
       "462367     1644          I Know What You Did Last Summer (1997)   \n",
       "462963     1645                    Devil's Advocate, The (1997)   \n",
       "478552     1711  Midnight in the Garden of Good and Evil (1997)   \n",
       "491124     1783                                 Palmetto (1998)   \n",
       "494819     1805                              Wild Things (1998)   \n",
       "504893     1892                        Perfect Murder, A (1998)   \n",
       "629752     2338    I Still Know What You Did Last Summer (1998)   \n",
       "643831     2389                                   Psycho (1998)   \n",
       "729999     2713                              Lake Placid (1999)   \n",
       "849186     3176                 Talented Mr. Ripley, The (1999)   \n",
       "887495     3386                                      JFK (1991)   \n",
       "\n",
       "                                  Genres  UserID  Rating    Timestamp Gender  \\\n",
       "93181             Drama|Mystery|Thriller  2696.0     3.0  973308886.0      M   \n",
       "198446                     Drama|Mystery  2696.0     5.0  973308842.0      M   \n",
       "268245                  Mystery|Thriller  2696.0     4.0  973308886.0      M   \n",
       "272478   Children's|Drama|Fantasy|Sci-Fi  2696.0     3.0  973308690.0      M   \n",
       "347231                            Horror  2696.0     4.0  973308710.0      M   \n",
       "358279                     Comedy|Sci-Fi  2696.0     2.0  973308676.0      M   \n",
       "446187               Crime|Drama|Mystery  2696.0     3.0  973308865.0      M   \n",
       "455087  Crime|Film-Noir|Mystery|Thriller  2696.0     4.0  973308842.0      M   \n",
       "457729                  Mystery|Thriller  2696.0     4.0  973308842.0      M   \n",
       "462367           Horror|Mystery|Thriller  2696.0     2.0  973308920.0      M   \n",
       "462963     Crime|Horror|Mystery|Thriller  2696.0     4.0  973308904.0      M   \n",
       "478552        Comedy|Crime|Drama|Mystery  2696.0     4.0  973308904.0      M   \n",
       "491124        Film-Noir|Mystery|Thriller  2696.0     4.0  973308865.0      M   \n",
       "494819      Crime|Drama|Mystery|Thriller  2696.0     4.0  973308886.0      M   \n",
       "504893                  Mystery|Thriller  2696.0     4.0  973308904.0      M   \n",
       "629752           Horror|Mystery|Thriller  2696.0     2.0  973308920.0      M   \n",
       "643831             Crime|Horror|Thriller  2696.0     4.0  973308710.0      M   \n",
       "729999                   Horror|Thriller  2696.0     1.0  973308710.0      M   \n",
       "849186            Drama|Mystery|Thriller  2696.0     4.0  973308865.0      M   \n",
       "887495                     Drama|Mystery  2696.0     1.0  973308842.0      M   \n",
       "\n",
       "        Age  Occupation Zip-code age_group  \n",
       "93181    25           7    24210     20-29  \n",
       "198446   25           7    24210     20-29  \n",
       "268245   25           7    24210     20-29  \n",
       "272478   25           7    24210     20-29  \n",
       "347231   25           7    24210     20-29  \n",
       "358279   25           7    24210     20-29  \n",
       "446187   25           7    24210     20-29  \n",
       "455087   25           7    24210     20-29  \n",
       "457729   25           7    24210     20-29  \n",
       "462367   25           7    24210     20-29  \n",
       "462963   25           7    24210     20-29  \n",
       "478552   25           7    24210     20-29  \n",
       "491124   25           7    24210     20-29  \n",
       "494819   25           7    24210     20-29  \n",
       "504893   25           7    24210     20-29  \n",
       "629752   25           7    24210     20-29  \n",
       "643831   25           7    24210     20-29  \n",
       "729999   25           7    24210     20-29  \n",
       "849186   25           7    24210     20-29  \n",
       "887495   25           7    24210     20-29  "
      ]
     },
     "execution_count": 28,
     "metadata": {},
     "output_type": "execute_result"
    }
   ],
   "source": [
    "user2696 = df[df.UserID == 2696]\n",
    "user2696"
   ]
  },
  {
   "cell_type": "code",
   "execution_count": 29,
   "metadata": {
    "scrolled": true
   },
   "outputs": [
    {
     "data": {
      "text/plain": [
       "(20, 11)"
      ]
     },
     "execution_count": 29,
     "metadata": {},
     "output_type": "execute_result"
    }
   ],
   "source": [
    "user2696.shape"
   ]
  },
  {
   "cell_type": "markdown",
   "metadata": {},
   "source": [
    "### Visualize the rating data by user of user id = 2696"
   ]
  },
  {
   "cell_type": "code",
   "execution_count": 30,
   "metadata": {
    "colab": {
     "base_uri": "https://localhost:8080/",
     "height": 319
    },
    "executionInfo": {
     "elapsed": 294,
     "status": "ok",
     "timestamp": 1624183389397,
     "user": {
      "displayName": "ALBIN P BENNY",
      "photoUrl": "https://lh3.googleusercontent.com/a-/AOh14GhpcHc2Te5FLA5H4iwsfN5KI5eaCaON-JBg2d1Wqg=s64",
      "userId": "08449600283866487124"
     },
     "user_tz": -330
    },
    "id": "ZEon8vh9uJz9",
    "outputId": "b40642f9-c4eb-4e8f-870e-262a9e1a3013",
    "scrolled": false
   },
   "outputs": [
    {
     "data": {
      "image/png": "[encoded data removed]",
      "text/plain": [
       "<Figure size 576x504 with 1 Axes>"
      ]
     },
     "metadata": {},
     "output_type": "display_data"
    }
   ],
   "source": [
    "# pie chart\n",
    "df[df.UserID == 2696].groupby('Rating')['MovieID'].count().plot(kind = 'pie',figsize = (8,7))\n",
    "plt.title('Movie Ratings of UserID 2696')\n",
    "plt.show()"
   ]
  },
  {
   "cell_type": "code",
   "execution_count": 31,
   "metadata": {
    "colab": {
     "base_uri": "https://localhost:8080/",
     "height": 337
    },
    "executionInfo": {
     "elapsed": 289,
     "status": "ok",
     "timestamp": 1624183389399,
     "user": {
      "displayName": "ALBIN P BENNY",
      "photoUrl": "https://lh3.googleusercontent.com/a-/AOh14GhpcHc2Te5FLA5H4iwsfN5KI5eaCaON-JBg2d1Wqg=s64",
      "userId": "08449600283866487124"
     },
     "user_tz": -330
    },
    "id": "qCaZ2ad2uLfN",
    "outputId": "2442a0ea-0e4b-4ce3-f08e-264b6f70cd1d"
   },
   "outputs": [
    {
     "data": {
      "text/plain": [
       "<matplotlib.collections.PathCollection at 0x1b232fe48b0>"
      ]
     },
     "execution_count": 31,
     "metadata": {},
     "output_type": "execute_result"
    },
    {
     "data": {
      "image/png": "[encoded data removed]",
      "text/plain": [
       "<Figure size 720x360 with 1 Axes>"
      ]
     },
     "metadata": {
      "needs_background": "light"
     },
     "output_type": "display_data"
    }
   ],
   "source": [
    "#scatterplot showing the movies that rated by user2696\n",
    "plt.figure(figsize = (10,5))\n",
    "user2696 = df[df.UserID == 2696]\n",
    "plt.scatter(y= user2696.Title, x = user2696.Rating, color = 'b')"
   ]
  },
  {
   "cell_type": "code",
   "execution_count": null,
   "metadata": {},
   "outputs": [],
   "source": []
  },
  {
   "cell_type": "markdown",
   "metadata": {
    "id": "usR9Zj95uZ4L"
   },
   "source": [
    "### 3. Perform machine learning on first 500 extracted records"
   ]
  },
  {
   "cell_type": "code",
   "execution_count": 32,
   "metadata": {
    "executionInfo": {
     "elapsed": 880,
     "status": "ok",
     "timestamp": 1624183390099,
     "user": {
      "displayName": "ALBIN P BENNY",
      "photoUrl": "https://lh3.googleusercontent.com/a-/AOh14GhpcHc2Te5FLA5H4iwsfN5KI5eaCaON-JBg2d1Wqg=s64",
      "userId": "08449600283866487124"
     },
     "user_tz": -330
    },
    "id": "i8ZQlg1XueRG"
   },
   "outputs": [],
   "source": [
    "# extract first 500 records\n",
    "df_500 = df.head(500)\n",
    "df_500.dropna(inplace=True)"
   ]
  },
  {
   "cell_type": "code",
   "execution_count": 33,
   "metadata": {
    "colab": {
     "base_uri": "https://localhost:8080/",
     "height": 204
    },
    "executionInfo": {
     "elapsed": 246,
     "status": "ok",
     "timestamp": 1624183390111,
     "user": {
      "displayName": "ALBIN P BENNY",
      "photoUrl": "https://lh3.googleusercontent.com/a-/AOh14GhpcHc2Te5FLA5H4iwsfN5KI5eaCaON-JBg2d1Wqg=s64",
      "userId": "08449600283866487124"
     },
     "user_tz": -330
    },
    "id": "qwnQ7QB4uf8j",
    "outputId": "0e363912-f768-4fd0-ec85-b52eedd69ac9",
    "scrolled": true
   },
   "outputs": [
    {
     "data": {
      "text/html": [
       "<div>\n",
       "<style scoped>\n",
       "    .dataframe tbody tr th:only-of-type {\n",
       "        vertical-align: middle;\n",
       "    }\n",
       "\n",
       "    .dataframe tbody tr th {\n",
       "        vertical-align: top;\n",
       "    }\n",
       "\n",
       "    .dataframe thead th {\n",
       "        text-align: right;\n",
       "    }\n",
       "</style>\n",
       "<table border=\"1\" class=\"dataframe\">\n",
       "  <thead>\n",
       "    <tr style=\"text-align: right;\">\n",
       "      <th></th>\n",
       "      <th>MovieID</th>\n",
       "      <th>Title</th>\n",
       "      <th>Genres</th>\n",
       "      <th>UserID</th>\n",
       "      <th>Rating</th>\n",
       "      <th>Timestamp</th>\n",
       "      <th>Gender</th>\n",
       "      <th>Age</th>\n",
       "      <th>Occupation</th>\n",
       "      <th>Zip-code</th>\n",
       "      <th>age_group</th>\n",
       "    </tr>\n",
       "  </thead>\n",
       "  <tbody>\n",
       "    <tr>\n",
       "      <th>0</th>\n",
       "      <td>2</td>\n",
       "      <td>Jumanji (1995)</td>\n",
       "      <td>Adventure|Children's|Fantasy</td>\n",
       "      <td>10.0</td>\n",
       "      <td>5.0</td>\n",
       "      <td>979168267.0</td>\n",
       "      <td>F</td>\n",
       "      <td>35</td>\n",
       "      <td>1</td>\n",
       "      <td>95370</td>\n",
       "      <td>30-39</td>\n",
       "    </tr>\n",
       "    <tr>\n",
       "      <th>1</th>\n",
       "      <td>2</td>\n",
       "      <td>Jumanji (1995)</td>\n",
       "      <td>Adventure|Children's|Fantasy</td>\n",
       "      <td>13.0</td>\n",
       "      <td>3.0</td>\n",
       "      <td>978202563.0</td>\n",
       "      <td>M</td>\n",
       "      <td>45</td>\n",
       "      <td>1</td>\n",
       "      <td>93304</td>\n",
       "      <td>40-49</td>\n",
       "    </tr>\n",
       "    <tr>\n",
       "      <th>2</th>\n",
       "      <td>2</td>\n",
       "      <td>Jumanji (1995)</td>\n",
       "      <td>Adventure|Children's|Fantasy</td>\n",
       "      <td>18.0</td>\n",
       "      <td>2.0</td>\n",
       "      <td>978152541.0</td>\n",
       "      <td>F</td>\n",
       "      <td>18</td>\n",
       "      <td>3</td>\n",
       "      <td>95825</td>\n",
       "      <td>10-19</td>\n",
       "    </tr>\n",
       "    <tr>\n",
       "      <th>3</th>\n",
       "      <td>2</td>\n",
       "      <td>Jumanji (1995)</td>\n",
       "      <td>Adventure|Children's|Fantasy</td>\n",
       "      <td>23.0</td>\n",
       "      <td>2.0</td>\n",
       "      <td>978461604.0</td>\n",
       "      <td>M</td>\n",
       "      <td>35</td>\n",
       "      <td>0</td>\n",
       "      <td>90049</td>\n",
       "      <td>30-39</td>\n",
       "    </tr>\n",
       "    <tr>\n",
       "      <th>4</th>\n",
       "      <td>2</td>\n",
       "      <td>Jumanji (1995)</td>\n",
       "      <td>Adventure|Children's|Fantasy</td>\n",
       "      <td>27.0</td>\n",
       "      <td>1.0</td>\n",
       "      <td>978129692.0</td>\n",
       "      <td>M</td>\n",
       "      <td>25</td>\n",
       "      <td>11</td>\n",
       "      <td>19130</td>\n",
       "      <td>20-29</td>\n",
       "    </tr>\n",
       "  </tbody>\n",
       "</table>\n",
       "</div>"
      ],
      "text/plain": [
       "   MovieID           Title                        Genres  UserID  Rating  \\\n",
       "0        2  Jumanji (1995)  Adventure|Children's|Fantasy    10.0     5.0   \n",
       "1        2  Jumanji (1995)  Adventure|Children's|Fantasy    13.0     3.0   \n",
       "2        2  Jumanji (1995)  Adventure|Children's|Fantasy    18.0     2.0   \n",
       "3        2  Jumanji (1995)  Adventure|Children's|Fantasy    23.0     2.0   \n",
       "4        2  Jumanji (1995)  Adventure|Children's|Fantasy    27.0     1.0   \n",
       "\n",
       "     Timestamp Gender  Age  Occupation Zip-code age_group  \n",
       "0  979168267.0      F   35           1    95370     30-39  \n",
       "1  978202563.0      M   45           1    93304     40-49  \n",
       "2  978152541.0      F   18           3    95825     10-19  \n",
       "3  978461604.0      M   35           0    90049     30-39  \n",
       "4  978129692.0      M   25          11    19130     20-29  "
      ]
     },
     "execution_count": 33,
     "metadata": {},
     "output_type": "execute_result"
    }
   ],
   "source": [
    "df_500.head()"
   ]
  },
  {
   "cell_type": "code",
   "execution_count": 34,
   "metadata": {},
   "outputs": [
    {
     "data": {
      "text/plain": [
       "(500, 11)"
      ]
     },
     "execution_count": 34,
     "metadata": {},
     "output_type": "execute_result"
    }
   ],
   "source": [
    "df_500.shape"
   ]
  },
  {
   "cell_type": "code",
   "execution_count": 35,
   "metadata": {
    "colab": {
     "base_uri": "https://localhost:8080/",
     "height": 297
    },
    "executionInfo": {
     "elapsed": 240,
     "status": "ok",
     "timestamp": 1624183390114,
     "user": {
      "displayName": "ALBIN P BENNY",
      "photoUrl": "https://lh3.googleusercontent.com/a-/AOh14GhpcHc2Te5FLA5H4iwsfN5KI5eaCaON-JBg2d1Wqg=s64",
      "userId": "08449600283866487124"
     },
     "user_tz": -330
    },
    "id": "gG6j4RqUuhgj",
    "outputId": "bcc4083a-096e-4628-eb42-b56ec988b1bb"
   },
   "outputs": [
    {
     "data": {
      "text/html": [
       "<div>\n",
       "<style scoped>\n",
       "    .dataframe tbody tr th:only-of-type {\n",
       "        vertical-align: middle;\n",
       "    }\n",
       "\n",
       "    .dataframe tbody tr th {\n",
       "        vertical-align: top;\n",
       "    }\n",
       "\n",
       "    .dataframe thead th {\n",
       "        text-align: right;\n",
       "    }\n",
       "</style>\n",
       "<table border=\"1\" class=\"dataframe\">\n",
       "  <thead>\n",
       "    <tr style=\"text-align: right;\">\n",
       "      <th></th>\n",
       "      <th>MovieID</th>\n",
       "      <th>UserID</th>\n",
       "      <th>Rating</th>\n",
       "      <th>Timestamp</th>\n",
       "      <th>Age</th>\n",
       "      <th>Occupation</th>\n",
       "    </tr>\n",
       "  </thead>\n",
       "  <tbody>\n",
       "    <tr>\n",
       "      <th>count</th>\n",
       "      <td>500.0</td>\n",
       "      <td>500.000000</td>\n",
       "      <td>500.000000</td>\n",
       "      <td>5.000000e+02</td>\n",
       "      <td>500.000000</td>\n",
       "      <td>500.000000</td>\n",
       "    </tr>\n",
       "    <tr>\n",
       "      <th>mean</th>\n",
       "      <td>2.0</td>\n",
       "      <td>2176.290000</td>\n",
       "      <td>3.184000</td>\n",
       "      <td>9.747610e+08</td>\n",
       "      <td>27.978000</td>\n",
       "      <td>7.624000</td>\n",
       "    </tr>\n",
       "    <tr>\n",
       "      <th>std</th>\n",
       "      <td>0.0</td>\n",
       "      <td>1283.397363</td>\n",
       "      <td>1.000072</td>\n",
       "      <td>1.034942e+07</td>\n",
       "      <td>11.541748</td>\n",
       "      <td>6.416304</td>\n",
       "    </tr>\n",
       "    <tr>\n",
       "      <th>min</th>\n",
       "      <td>2.0</td>\n",
       "      <td>10.000000</td>\n",
       "      <td>1.000000</td>\n",
       "      <td>9.653054e+08</td>\n",
       "      <td>1.000000</td>\n",
       "      <td>0.000000</td>\n",
       "    </tr>\n",
       "    <tr>\n",
       "      <th>25%</th>\n",
       "      <td>2.0</td>\n",
       "      <td>1114.250000</td>\n",
       "      <td>3.000000</td>\n",
       "      <td>9.685547e+08</td>\n",
       "      <td>18.000000</td>\n",
       "      <td>2.000000</td>\n",
       "    </tr>\n",
       "    <tr>\n",
       "      <th>50%</th>\n",
       "      <td>2.0</td>\n",
       "      <td>2082.500000</td>\n",
       "      <td>3.000000</td>\n",
       "      <td>9.747152e+08</td>\n",
       "      <td>25.000000</td>\n",
       "      <td>6.000000</td>\n",
       "    </tr>\n",
       "    <tr>\n",
       "      <th>75%</th>\n",
       "      <td>2.0</td>\n",
       "      <td>3389.500000</td>\n",
       "      <td>4.000000</td>\n",
       "      <td>9.757746e+08</td>\n",
       "      <td>35.000000</td>\n",
       "      <td>14.000000</td>\n",
       "    </tr>\n",
       "    <tr>\n",
       "      <th>max</th>\n",
       "      <td>2.0</td>\n",
       "      <td>4277.000000</td>\n",
       "      <td>5.000000</td>\n",
       "      <td>1.042345e+09</td>\n",
       "      <td>56.000000</td>\n",
       "      <td>20.000000</td>\n",
       "    </tr>\n",
       "  </tbody>\n",
       "</table>\n",
       "</div>"
      ],
      "text/plain": [
       "       MovieID       UserID      Rating     Timestamp         Age  Occupation\n",
       "count    500.0   500.000000  500.000000  5.000000e+02  500.000000  500.000000\n",
       "mean       2.0  2176.290000    3.184000  9.747610e+08   27.978000    7.624000\n",
       "std        0.0  1283.397363    1.000072  1.034942e+07   11.541748    6.416304\n",
       "min        2.0    10.000000    1.000000  9.653054e+08    1.000000    0.000000\n",
       "25%        2.0  1114.250000    3.000000  9.685547e+08   18.000000    2.000000\n",
       "50%        2.0  2082.500000    3.000000  9.747152e+08   25.000000    6.000000\n",
       "75%        2.0  3389.500000    4.000000  9.757746e+08   35.000000   14.000000\n",
       "max        2.0  4277.000000    5.000000  1.042345e+09   56.000000   20.000000"
      ]
     },
     "execution_count": 35,
     "metadata": {},
     "output_type": "execute_result"
    }
   ],
   "source": [
    "df_500.describe()"
   ]
  },
  {
   "cell_type": "code",
   "execution_count": 36,
   "metadata": {
    "colab": {
     "base_uri": "https://localhost:8080/"
    },
    "executionInfo": {
     "elapsed": 234,
     "status": "ok",
     "timestamp": 1624183390123,
     "user": {
      "displayName": "ALBIN P BENNY",
      "photoUrl": "https://lh3.googleusercontent.com/a-/AOh14GhpcHc2Te5FLA5H4iwsfN5KI5eaCaON-JBg2d1Wqg=s64",
      "userId": "08449600283866487124"
     },
     "user_tz": -330
    },
    "id": "7UYgJYslujZv",
    "outputId": "96c745d1-76d9-4e26-96aa-ded06a013920"
   },
   "outputs": [
    {
     "data": {
      "text/plain": [
       "MovieID       0\n",
       "Title         0\n",
       "Genres        0\n",
       "UserID        0\n",
       "Rating        0\n",
       "Timestamp     0\n",
       "Gender        0\n",
       "Age           0\n",
       "Occupation    0\n",
       "Zip-code      0\n",
       "age_group     0\n",
       "dtype: int64"
      ]
     },
     "execution_count": 36,
     "metadata": {},
     "output_type": "execute_result"
    }
   ],
   "source": [
    "df_500.isnull().sum()"
   ]
  },
  {
   "cell_type": "code",
   "execution_count": null,
   "metadata": {
    "executionInfo": {
     "elapsed": 171,
     "status": "ok",
     "timestamp": 1624183390127,
     "user": {
      "displayName": "ALBIN P BENNY",
      "photoUrl": "https://lh3.googleusercontent.com/a-/AOh14GhpcHc2Te5FLA5H4iwsfN5KI5eaCaON-JBg2d1Wqg=s64",
      "userId": "08449600283866487124"
     },
     "user_tz": -330
    },
    "id": "H4k68BV4uk3s"
   },
   "outputs": [],
   "source": []
  },
  {
   "cell_type": "markdown",
   "metadata": {
    "id": "IoPOFkyNunlm"
   },
   "source": [
    "**Use the following features:**\n",
    "\n",
    "* movie id\n",
    "* age\n",
    "* occupation\n",
    "\n",
    "**Use rating as label**"
   ]
  },
  {
   "cell_type": "code",
   "execution_count": 37,
   "metadata": {
    "executionInfo": {
     "elapsed": 161,
     "status": "ok",
     "timestamp": 1624183390134,
     "user": {
      "displayName": "ALBIN P BENNY",
      "photoUrl": "https://lh3.googleusercontent.com/a-/AOh14GhpcHc2Te5FLA5H4iwsfN5KI5eaCaON-JBg2d1Wqg=s64",
      "userId": "08449600283866487124"
     },
     "user_tz": -330
    },
    "id": "ufCs-S18uyYQ"
   },
   "outputs": [],
   "source": [
    "# features:movie id,age,occupation\n",
    "x = df_500[['MovieID','Age','Occupation']].values\n",
    "\n",
    "# Use rating as label\n",
    "y = df_500[['Rating']].values"
   ]
  },
  {
   "cell_type": "code",
   "execution_count": null,
   "metadata": {},
   "outputs": [],
   "source": []
  },
  {
   "cell_type": "markdown",
   "metadata": {
    "id": "NF-G-bfGu5a1"
   },
   "source": [
    "### 4. Create train and test data set"
   ]
  },
  {
   "cell_type": "code",
   "execution_count": 38,
   "metadata": {},
   "outputs": [],
   "source": [
    "# preprocessing\n",
    "from sklearn.model_selection import train_test_split"
   ]
  },
  {
   "cell_type": "code",
   "execution_count": 39,
   "metadata": {
    "executionInfo": {
     "elapsed": 108,
     "status": "ok",
     "timestamp": 1624183390143,
     "user": {
      "displayName": "ALBIN P BENNY",
      "photoUrl": "https://lh3.googleusercontent.com/a-/AOh14GhpcHc2Te5FLA5H4iwsfN5KI5eaCaON-JBg2d1Wqg=s64",
      "userId": "08449600283866487124"
     },
     "user_tz": -330
    },
    "id": "GSsVekjLvBiD"
   },
   "outputs": [],
   "source": [
    "#Create train and test data set\n",
    "x_train, x_test, y_train, y_test = train_test_split(x,y,test_size=0.2,random_state=1)"
   ]
  },
  {
   "cell_type": "code",
   "execution_count": null,
   "metadata": {},
   "outputs": [],
   "source": []
  },
  {
   "cell_type": "markdown",
   "metadata": {
    "id": "r4D4-I6qvIUv"
   },
   "source": [
    "### 5. Create a histogram for movie, age, and occupation"
   ]
  },
  {
   "cell_type": "code",
   "execution_count": 40,
   "metadata": {
    "colab": {
     "base_uri": "https://localhost:8080/",
     "height": 367
    },
    "executionInfo": {
     "elapsed": 1389,
     "status": "ok",
     "timestamp": 1624183391429,
     "user": {
      "displayName": "ALBIN P BENNY",
      "photoUrl": "https://lh3.googleusercontent.com/a-/AOh14GhpcHc2Te5FLA5H4iwsfN5KI5eaCaON-JBg2d1Wqg=s64",
      "userId": "08449600283866487124"
     },
     "user_tz": -330
    },
    "id": "twXKuPUwvKym",
    "outputId": "c4686569-aeea-4af1-99e7-17f6c31bf320"
   },
   "outputs": [
    {
     "data": {
      "text/plain": [
       "Text(0.5, 0, 'Age')"
      ]
     },
     "execution_count": 40,
     "metadata": {},
     "output_type": "execute_result"
    },
    {
     "data": {
      "image/png": "[encoded data removed]",
      "text/plain": [
       "<Figure size 720x360 with 1 Axes>"
      ]
     },
     "metadata": {
      "needs_background": "light"
     },
     "output_type": "display_data"
    }
   ],
   "source": [
    "#histogram for age\n",
    "plt.figure(figsize=(10,5))\n",
    "df.Age.plot.hist(bins=25)\n",
    "plt.title(\"Age\")\n",
    "plt.xlabel('Age')"
   ]
  },
  {
   "cell_type": "code",
   "execution_count": 41,
   "metadata": {
    "colab": {
     "base_uri": "https://localhost:8080/",
     "height": 367
    },
    "executionInfo": {
     "elapsed": 206,
     "status": "ok",
     "timestamp": 1624183391439,
     "user": {
      "displayName": "ALBIN P BENNY",
      "photoUrl": "https://lh3.googleusercontent.com/a-/AOh14GhpcHc2Te5FLA5H4iwsfN5KI5eaCaON-JBg2d1Wqg=s64",
      "userId": "08449600283866487124"
     },
     "user_tz": -330
    },
    "id": "Zbm9EcbNvMZb",
    "outputId": "609546d2-abab-4bb2-d99a-75d89f5e91d6"
   },
   "outputs": [
    {
     "data": {
      "text/plain": [
       "Text(0.5, 0, 'Occupation')"
      ]
     },
     "execution_count": 41,
     "metadata": {},
     "output_type": "execute_result"
    },
    {
     "data": {
      "image/png": "[encoded data removed]",
      "text/plain": [
       "<Figure size 720x360 with 1 Axes>"
      ]
     },
     "metadata": {
      "needs_background": "light"
     },
     "output_type": "display_data"
    }
   ],
   "source": [
    "#histogram for occupation\n",
    "plt.figure(figsize=(10,5))\n",
    "df.Occupation.plot.hist(bins=25)\n",
    "plt.title(\"Occupation\")\n",
    "plt.xlabel('Occupation')"
   ]
  },
  {
   "cell_type": "code",
   "execution_count": null,
   "metadata": {
    "executionInfo": {
     "elapsed": 152,
     "status": "ok",
     "timestamp": 1624183391447,
     "user": {
      "displayName": "ALBIN P BENNY",
      "photoUrl": "https://lh3.googleusercontent.com/a-/AOh14GhpcHc2Te5FLA5H4iwsfN5KI5eaCaON-JBg2d1Wqg=s64",
      "userId": "08449600283866487124"
     },
     "user_tz": -330
    },
    "id": "_FMPADXy3Krs"
   },
   "outputs": [],
   "source": []
  },
  {
   "cell_type": "markdown",
   "metadata": {},
   "source": [
    "### Movie ratings prediction by using different ML models"
   ]
  },
  {
   "cell_type": "code",
   "execution_count": 42,
   "metadata": {},
   "outputs": [],
   "source": [
    "# Matrics\n",
    "from sklearn.metrics import mean_squared_error, mean_absolute_error,accuracy_score\n",
    "from sklearn.model_selection import cross_val_score\n",
    "from sklearn.metrics import classification_report\n",
    "\n",
    "# ML Models\n",
    "from sklearn.linear_model import LogisticRegression\n",
    "from sklearn.svm import SVC, LinearSVC\n",
    "from sklearn import svm\n",
    "from sklearn.ensemble import RandomForestClassifier\n",
    "from sklearn.neighbors import KNeighborsClassifier\n",
    "from sklearn.tree import DecisionTreeClassifier"
   ]
  },
  {
   "cell_type": "code",
   "execution_count": 43,
   "metadata": {},
   "outputs": [],
   "source": [
    "# #Feature Scaling\n",
    "# from sklearn.preprocessing import StandardScaler\n",
    "# sc = StandardScaler()\n",
    "# x_train = sc.fit_transform(x_train)\n",
    "# x_test = sc.transform(x_test)"
   ]
  },
  {
   "cell_type": "code",
   "execution_count": null,
   "metadata": {},
   "outputs": [],
   "source": []
  },
  {
   "cell_type": "markdown",
   "metadata": {},
   "source": [
    "####  Logistic Regression"
   ]
  },
  {
   "cell_type": "code",
   "execution_count": 44,
   "metadata": {},
   "outputs": [
    {
     "data": {
      "text/plain": [
       "LogisticRegression()"
      ]
     },
     "execution_count": 44,
     "metadata": {},
     "output_type": "execute_result"
    }
   ],
   "source": [
    "reg = LogisticRegression()\n",
    "reg.fit(x_train,y_train)"
   ]
  },
  {
   "cell_type": "code",
   "execution_count": 45,
   "metadata": {},
   "outputs": [
    {
     "name": "stdout",
     "output_type": "stream",
     "text": [
      "Accuracy of train:  0.375\n",
      "Accuracy of test:  0.46\n",
      "              precision    recall  f1-score   support\n",
      "\n",
      "         1.0       0.00      0.00      0.00         7\n",
      "         2.0       0.00      0.00      0.00        14\n",
      "         3.0       0.46      0.76      0.57        41\n",
      "         4.0       0.45      0.47      0.46        32\n",
      "         5.0       0.00      0.00      0.00         6\n",
      "\n",
      "    accuracy                           0.46       100\n",
      "   macro avg       0.18      0.24      0.21       100\n",
      "weighted avg       0.34      0.46      0.38       100\n",
      "\n"
     ]
    }
   ],
   "source": [
    "y_pred = reg.predict(x_test)\n",
    "y_pred1 = reg.predict(x_train)\n",
    "print('Accuracy of train: ',accuracy_score(y_train,y_pred1))\n",
    "print('Accuracy of test: ',accuracy_score(y_test,y_pred))\n",
    "logi = accuracy_score(y_test,y_pred)*100\n",
    "print(classification_report(y_test,y_pred))"
   ]
  },
  {
   "cell_type": "markdown",
   "metadata": {},
   "source": [
    "#### Linear SVC"
   ]
  },
  {
   "cell_type": "code",
   "execution_count": 46,
   "metadata": {},
   "outputs": [
    {
     "name": "stdout",
     "output_type": "stream",
     "text": [
      "Accuracy of train:  0.3725\n",
      "Accuracy of test:  0.42\n",
      "              precision    recall  f1-score   support\n",
      "\n",
      "         1.0       0.00      0.00      0.00         7\n",
      "         2.0       0.00      0.00      0.00        14\n",
      "         3.0       0.42      1.00      0.59        41\n",
      "         4.0       0.50      0.03      0.06        32\n",
      "         5.0       0.00      0.00      0.00         6\n",
      "\n",
      "    accuracy                           0.42       100\n",
      "   macro avg       0.18      0.21      0.13       100\n",
      "weighted avg       0.33      0.42      0.26       100\n",
      "\n"
     ]
    }
   ],
   "source": [
    "model = svm.LinearSVC(random_state=4)\n",
    "model.fit(x_train, y_train)\n",
    "y_pred = model.predict(x_test)\n",
    "y_pred1 = model.predict(x_train)\n",
    "print('Accuracy of train: ',accuracy_score(y_train,y_pred1))\n",
    "print('Accuracy of test: ',accuracy_score(y_test,y_pred))\n",
    "LSVC = accuracy_score(y_test,y_pred)*100\n",
    "print(classification_report(y_test,y_pred))"
   ]
  },
  {
   "cell_type": "markdown",
   "metadata": {},
   "source": [
    "#### Support Vector Machines"
   ]
  },
  {
   "cell_type": "code",
   "execution_count": 47,
   "metadata": {},
   "outputs": [
    {
     "name": "stdout",
     "output_type": "stream",
     "text": [
      "Accuracy of train:  0.4\n",
      "Accuracy of test:  0.45\n",
      "              precision    recall  f1-score   support\n",
      "\n",
      "         1.0       0.00      0.00      0.00         7\n",
      "         2.0       0.00      0.00      0.00        14\n",
      "         3.0       0.44      0.88      0.59        41\n",
      "         4.0       0.50      0.28      0.36        32\n",
      "         5.0       0.00      0.00      0.00         6\n",
      "\n",
      "    accuracy                           0.45       100\n",
      "   macro avg       0.19      0.23      0.19       100\n",
      "weighted avg       0.34      0.45      0.36       100\n",
      "\n"
     ]
    }
   ],
   "source": [
    "model_svc = svm.SVC()\n",
    "model_svc.fit(x_train, y_train)\n",
    "y_pred = model_svc.predict(x_test)\n",
    "y_pred1 = model_svc.predict(x_train)\n",
    "print('Accuracy of train: ',accuracy_score(y_train,y_pred1))\n",
    "print('Accuracy of test: ',accuracy_score(y_test,y_pred))\n",
    "SVC = accuracy_score(y_test,y_pred)*100\n",
    "print(classification_report(y_test,y_pred))"
   ]
  },
  {
   "cell_type": "markdown",
   "metadata": {},
   "source": [
    "#### K Nearest Neighbors Classifier"
   ]
  },
  {
   "cell_type": "code",
   "execution_count": 48,
   "metadata": {},
   "outputs": [
    {
     "name": "stdout",
     "output_type": "stream",
     "text": [
      "Accuracy of train:  0.3875\n",
      "Accuracy of test:  0.25\n",
      "              precision    recall  f1-score   support\n",
      "\n",
      "         1.0       0.10      0.43      0.16         7\n",
      "         2.0       0.00      0.00      0.00        14\n",
      "         3.0       0.48      0.32      0.38        41\n",
      "         4.0       0.29      0.28      0.29        32\n",
      "         5.0       0.00      0.00      0.00         6\n",
      "\n",
      "    accuracy                           0.25       100\n",
      "   macro avg       0.17      0.21      0.17       100\n",
      "weighted avg       0.30      0.25      0.26       100\n",
      "\n"
     ]
    }
   ],
   "source": [
    "model_knn = KNeighborsClassifier(n_neighbors = 3)\n",
    "model_knn.fit(x_train, y_train)\n",
    "y_pred = model_knn.predict(x_test)\n",
    "y_pred1 = model_knn.predict(x_train)\n",
    "print('Accuracy of train: ',accuracy_score(y_train,y_pred1))\n",
    "print('Accuracy of test: ',accuracy_score(y_test,y_pred))\n",
    "KNN = accuracy_score(y_test,y_pred)*100\n",
    "print(classification_report(y_test,y_pred))"
   ]
  },
  {
   "cell_type": "markdown",
   "metadata": {},
   "source": [
    "####  Decision Tree"
   ]
  },
  {
   "cell_type": "code",
   "execution_count": 49,
   "metadata": {
    "scrolled": true
   },
   "outputs": [
    {
     "name": "stdout",
     "output_type": "stream",
     "text": [
      "Accuracy of train:  0.5275\n",
      "Accuracy of test:  0.39\n",
      "              precision    recall  f1-score   support\n",
      "\n",
      "         1.0       0.00      0.00      0.00         7\n",
      "         2.0       0.17      0.07      0.10        14\n",
      "         3.0       0.48      0.78      0.60        41\n",
      "         4.0       0.25      0.19      0.21        32\n",
      "         5.0       0.00      0.00      0.00         6\n",
      "\n",
      "    accuracy                           0.39       100\n",
      "   macro avg       0.18      0.21      0.18       100\n",
      "weighted avg       0.30      0.39      0.33       100\n",
      "\n"
     ]
    }
   ],
   "source": [
    "model_dc = DecisionTreeClassifier()\n",
    "model_dc.fit(x_train, y_train)\n",
    "y_pred = model_dc.predict(x_test)\n",
    "y_pred1 = model_dc.predict(x_train)\n",
    "print('Accuracy of train: ',accuracy_score(y_train,y_pred1))\n",
    "print('Accuracy of test: ',accuracy_score(y_test,y_pred))\n",
    "DT = accuracy_score(y_test,y_pred)*100\n",
    "print(classification_report(y_test,y_pred))"
   ]
  },
  {
   "cell_type": "markdown",
   "metadata": {},
   "source": [
    "#### Random Forest"
   ]
  },
  {
   "cell_type": "code",
   "execution_count": 50,
   "metadata": {},
   "outputs": [
    {
     "name": "stdout",
     "output_type": "stream",
     "text": [
      "Accuracy of train:  0.5275\n",
      "Accuracy of test:  0.39\n",
      "              precision    recall  f1-score   support\n",
      "\n",
      "         1.0       0.00      0.00      0.00         7\n",
      "         2.0       0.20      0.07      0.11        14\n",
      "         3.0       0.50      0.71      0.59        41\n",
      "         4.0       0.27      0.28      0.28        32\n",
      "         5.0       0.00      0.00      0.00         6\n",
      "\n",
      "    accuracy                           0.39       100\n",
      "   macro avg       0.19      0.21      0.19       100\n",
      "weighted avg       0.32      0.39      0.34       100\n",
      "\n"
     ]
    }
   ],
   "source": [
    "model_rf = RandomForestClassifier(n_estimators=100)\n",
    "model_rf.fit(x_train, y_train)\n",
    "y_pred = model_rf.predict(x_test)\n",
    "y_pred1 = model_rf.predict(x_train)\n",
    "print('Accuracy of train: ',accuracy_score(y_train,y_pred1))\n",
    "print('Accuracy of test: ',accuracy_score(y_test,y_pred))\n",
    "RF = accuracy_score(y_test,y_pred)*100\n",
    "print(classification_report(y_test,y_pred))"
   ]
  },
  {
   "cell_type": "code",
   "execution_count": 51,
   "metadata": {},
   "outputs": [
    {
     "data": {
      "text/html": [
       "<div>\n",
       "<style scoped>\n",
       "    .dataframe tbody tr th:only-of-type {\n",
       "        vertical-align: middle;\n",
       "    }\n",
       "\n",
       "    .dataframe tbody tr th {\n",
       "        vertical-align: top;\n",
       "    }\n",
       "\n",
       "    .dataframe thead th {\n",
       "        text-align: right;\n",
       "    }\n",
       "</style>\n",
       "<table border=\"1\" class=\"dataframe\">\n",
       "  <thead>\n",
       "    <tr style=\"text-align: right;\">\n",
       "      <th></th>\n",
       "      <th>Model</th>\n",
       "      <th>Score</th>\n",
       "    </tr>\n",
       "  </thead>\n",
       "  <tbody>\n",
       "    <tr>\n",
       "      <th>2</th>\n",
       "      <td>Logistic Regression</td>\n",
       "      <td>46.0</td>\n",
       "    </tr>\n",
       "    <tr>\n",
       "      <th>0</th>\n",
       "      <td>Support Vector Machines</td>\n",
       "      <td>45.0</td>\n",
       "    </tr>\n",
       "    <tr>\n",
       "      <th>4</th>\n",
       "      <td>Linear SVC</td>\n",
       "      <td>42.0</td>\n",
       "    </tr>\n",
       "    <tr>\n",
       "      <th>3</th>\n",
       "      <td>Random Forest</td>\n",
       "      <td>39.0</td>\n",
       "    </tr>\n",
       "    <tr>\n",
       "      <th>5</th>\n",
       "      <td>Decision Tree</td>\n",
       "      <td>39.0</td>\n",
       "    </tr>\n",
       "    <tr>\n",
       "      <th>1</th>\n",
       "      <td>KNN</td>\n",
       "      <td>25.0</td>\n",
       "    </tr>\n",
       "  </tbody>\n",
       "</table>\n",
       "</div>"
      ],
      "text/plain": [
       "                     Model  Score\n",
       "2      Logistic Regression   46.0\n",
       "0  Support Vector Machines   45.0\n",
       "4               Linear SVC   42.0\n",
       "3            Random Forest   39.0\n",
       "5            Decision Tree   39.0\n",
       "1                      KNN   25.0"
      ]
     },
     "execution_count": 51,
     "metadata": {},
     "output_type": "execute_result"
    }
   ],
   "source": [
    "models = pd.DataFrame({\n",
    "    'Model': ['Support Vector Machines', 'KNN', 'Logistic Regression', \n",
    "              'Random Forest', 'Linear SVC', \n",
    "              'Decision Tree'],\n",
    "    'Score': [SVC, KNN, logi, \n",
    "              RF, LSVC, DT]})\n",
    "models.sort_values(by='Score', ascending=False)"
   ]
  },
  {
   "cell_type": "markdown",
   "metadata": {},
   "source": [
    "* Submitted by,\n",
    " ALBIN P BENNY\n",
    "* albinpbenny007@gmail.com"
   ]
  },
  {
   "cell_type": "code",
   "execution_count": null,
   "metadata": {},
   "outputs": [],
   "source": []
  },
  {
   "cell_type": "code",
   "execution_count": null,
   "metadata": {},
   "outputs": [],
   "source": []
  }
 ],
 "metadata": {
  "colab": {
   "authorship_tag": "ABX9TyMUB6FiN4XS4T9gcZv6PK2K",
   "collapsed_sections": [],
   "name": "Data Analysis in Movies dataset",
   "provenance": []
  },
  "kernelspec": {
   "display_name": "Python 3",
   "language": "python",
   "name": "python3"
  },
  "language_info": {
   "codemirror_mode": {
    "name": "ipython",
    "version": 3
   },
   "file_extension": ".py",
   "mimetype": "text/x-python",
   "name": "python",
   "nbconvert_exporter": "python",
   "pygments_lexer": "ipython3",
   "version": "3.8.10"
  }
 },
 "nbformat": 4,
 "nbformat_minor": 1
}
